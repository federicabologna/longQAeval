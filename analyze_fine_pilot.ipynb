{
 "cells": [
  {
   "cell_type": "code",
   "execution_count": 2,
   "id": "9e10e3bc",
   "metadata": {},
   "outputs": [],
   "source": [
    "# Imports\n",
    "import time\n",
    "import os\n",
    "import json\n",
    "from itertools import combinations\n",
    "import numpy as np\n",
    "import pandas as pd\n",
    "from scipy import stats\n",
    "from statsmodels.stats import inter_rater as irr\n",
    "from sklearn.metrics import cohen_kappa_score\n",
    "from scipy.stats import spearmanr\n",
    "\n",
    "import krippendorff as kd\n",
    "import matplotlib.pyplot as plt\n",
    "import seaborn as sns\n",
    "\n",
    "# File locations\n",
    "dir = os.getcwd()\n",
    "output_dir = os.path.join(dir, 'output')\n",
    "fig_dir = os.path.join(dir, 'figures')"
   ]
  },
  {
   "cell_type": "code",
   "execution_count": 3,
   "id": "fcbc5f11",
   "metadata": {},
   "outputs": [],
   "source": [
    "results = []\n",
    "for n in range(1,7):\n",
    "    # for pilot_n in [1,2]:\n",
    "    with open(os.path.join(output_dir, 'fine', 'pilot1_fine', f\"annotator{n}.jsonl\"), 'r', encoding='utf-8') as jsonl_file:\n",
    "        for line in jsonl_file:\n",
    "            d = json.loads(line)\n",
    "            if 'annotator' not in d:\n",
    "                d['annotator'] = f\"annotator{n}\"\n",
    "            results.append(d)"
   ]
  },
  {
   "cell_type": "code",
   "execution_count": 4,
   "id": "8f26051b",
   "metadata": {},
   "outputs": [
    {
     "name": "stdout",
     "output_type": "stream",
     "text": [
      "270\n"
     ]
    },
    {
     "data": {
      "text/html": [
       "<div>\n",
       "<style scoped>\n",
       "    .dataframe tbody tr th:only-of-type {\n",
       "        vertical-align: middle;\n",
       "    }\n",
       "\n",
       "    .dataframe tbody tr th {\n",
       "        vertical-align: top;\n",
       "    }\n",
       "\n",
       "    .dataframe thead th {\n",
       "        text-align: right;\n",
       "    }\n",
       "</style>\n",
       "<table border=\"1\" class=\"dataframe\">\n",
       "  <thead>\n",
       "    <tr style=\"text-align: right;\">\n",
       "      <th></th>\n",
       "      <th>_id</th>\n",
       "      <th>question_id</th>\n",
       "      <th>question</th>\n",
       "      <th>answer_id</th>\n",
       "      <th>answer_type</th>\n",
       "      <th>annotation_type</th>\n",
       "      <th>rated</th>\n",
       "      <th>sentence_id</th>\n",
       "      <th>answer</th>\n",
       "      <th>batch_id</th>\n",
       "      <th>confidence</th>\n",
       "      <th>correctness</th>\n",
       "      <th>relevance</th>\n",
       "      <th>safety</th>\n",
       "      <th>time</th>\n",
       "      <th>annotator</th>\n",
       "    </tr>\n",
       "  </thead>\n",
       "  <tbody>\n",
       "    <tr>\n",
       "      <th>0</th>\n",
       "      <td>681b9360f6484136ecab0256</td>\n",
       "      <td>question_41</td>\n",
       "      <td>Do migraines always come with headaches becaus...</td>\n",
       "      <td>gpt4_9</td>\n",
       "      <td>gpt4</td>\n",
       "      <td>fine</td>\n",
       "      <td>Yes</td>\n",
       "      <td>gpt4_9_0</td>\n",
       "      <td>&lt;mark&gt;No, migraines do not always present with...</td>\n",
       "      <td>batch_0</td>\n",
       "      <td>Very confident</td>\n",
       "      <td>Agree</td>\n",
       "      <td>Agree</td>\n",
       "      <td>Agree</td>\n",
       "      <td>191.654905</td>\n",
       "      <td>annotator1</td>\n",
       "    </tr>\n",
       "    <tr>\n",
       "      <th>1</th>\n",
       "      <td>681b9360f6484136ecab0257</td>\n",
       "      <td>question_41</td>\n",
       "      <td>Do migraines always come with headaches becaus...</td>\n",
       "      <td>gpt4_9</td>\n",
       "      <td>gpt4</td>\n",
       "      <td>fine</td>\n",
       "      <td>Yes</td>\n",
       "      <td>gpt4_9_1</td>\n",
       "      <td>No, migraines do not always present with heada...</td>\n",
       "      <td>batch_0</td>\n",
       "      <td>Very confident</td>\n",
       "      <td>Agree</td>\n",
       "      <td>Agree</td>\n",
       "      <td>Agree</td>\n",
       "      <td>143.599138</td>\n",
       "      <td>annotator1</td>\n",
       "    </tr>\n",
       "    <tr>\n",
       "      <th>2</th>\n",
       "      <td>681b9360f6484136ecab0258</td>\n",
       "      <td>question_41</td>\n",
       "      <td>Do migraines always come with headaches becaus...</td>\n",
       "      <td>gpt4_9</td>\n",
       "      <td>gpt4</td>\n",
       "      <td>fine</td>\n",
       "      <td>Yes</td>\n",
       "      <td>gpt4_9_2</td>\n",
       "      <td>No, migraines do not always present with heada...</td>\n",
       "      <td>batch_0</td>\n",
       "      <td>Very confident</td>\n",
       "      <td>Agree</td>\n",
       "      <td>Partially Agree</td>\n",
       "      <td>Partially Agree</td>\n",
       "      <td>127.967306</td>\n",
       "      <td>annotator1</td>\n",
       "    </tr>\n",
       "    <tr>\n",
       "      <th>3</th>\n",
       "      <td>681b9360f6484136ecab0259</td>\n",
       "      <td>question_41</td>\n",
       "      <td>Do migraines always come with headaches becaus...</td>\n",
       "      <td>gpt4_9</td>\n",
       "      <td>gpt4</td>\n",
       "      <td>fine</td>\n",
       "      <td>Yes</td>\n",
       "      <td>gpt4_9_3</td>\n",
       "      <td>No, migraines do not always present with heada...</td>\n",
       "      <td>batch_0</td>\n",
       "      <td>Very confident</td>\n",
       "      <td>Agree</td>\n",
       "      <td>Agree</td>\n",
       "      <td>Agree</td>\n",
       "      <td>159.208552</td>\n",
       "      <td>annotator1</td>\n",
       "    </tr>\n",
       "    <tr>\n",
       "      <th>4</th>\n",
       "      <td>681b9360f6484136ecab025a</td>\n",
       "      <td>question_41</td>\n",
       "      <td>Do migraines always come with headaches becaus...</td>\n",
       "      <td>physician_9</td>\n",
       "      <td>physician</td>\n",
       "      <td>fine</td>\n",
       "      <td>Yes</td>\n",
       "      <td>physician_9_0</td>\n",
       "      <td>&lt;mark&gt;Migraine typically presents with a heada...</td>\n",
       "      <td>batch_0</td>\n",
       "      <td>Very confident</td>\n",
       "      <td>Partially Agree</td>\n",
       "      <td>Partially Agree</td>\n",
       "      <td>Partially Disagree</td>\n",
       "      <td>45.917795</td>\n",
       "      <td>annotator1</td>\n",
       "    </tr>\n",
       "  </tbody>\n",
       "</table>\n",
       "</div>"
      ],
      "text/plain": [
       "                        _id  question_id  \\\n",
       "0  681b9360f6484136ecab0256  question_41   \n",
       "1  681b9360f6484136ecab0257  question_41   \n",
       "2  681b9360f6484136ecab0258  question_41   \n",
       "3  681b9360f6484136ecab0259  question_41   \n",
       "4  681b9360f6484136ecab025a  question_41   \n",
       "\n",
       "                                            question    answer_id answer_type  \\\n",
       "0  Do migraines always come with headaches becaus...       gpt4_9        gpt4   \n",
       "1  Do migraines always come with headaches becaus...       gpt4_9        gpt4   \n",
       "2  Do migraines always come with headaches becaus...       gpt4_9        gpt4   \n",
       "3  Do migraines always come with headaches becaus...       gpt4_9        gpt4   \n",
       "4  Do migraines always come with headaches becaus...  physician_9   physician   \n",
       "\n",
       "  annotation_type rated    sentence_id  \\\n",
       "0            fine   Yes       gpt4_9_0   \n",
       "1            fine   Yes       gpt4_9_1   \n",
       "2            fine   Yes       gpt4_9_2   \n",
       "3            fine   Yes       gpt4_9_3   \n",
       "4            fine   Yes  physician_9_0   \n",
       "\n",
       "                                              answer batch_id      confidence  \\\n",
       "0  <mark>No, migraines do not always present with...  batch_0  Very confident   \n",
       "1  No, migraines do not always present with heada...  batch_0  Very confident   \n",
       "2  No, migraines do not always present with heada...  batch_0  Very confident   \n",
       "3  No, migraines do not always present with heada...  batch_0  Very confident   \n",
       "4  <mark>Migraine typically presents with a heada...  batch_0  Very confident   \n",
       "\n",
       "       correctness        relevance              safety        time  \\\n",
       "0            Agree            Agree               Agree  191.654905   \n",
       "1            Agree            Agree               Agree  143.599138   \n",
       "2            Agree  Partially Agree     Partially Agree  127.967306   \n",
       "3            Agree            Agree               Agree  159.208552   \n",
       "4  Partially Agree  Partially Agree  Partially Disagree   45.917795   \n",
       "\n",
       "    annotator  \n",
       "0  annotator1  \n",
       "1  annotator1  \n",
       "2  annotator1  \n",
       "3  annotator1  \n",
       "4  annotator1  "
      ]
     },
     "execution_count": 4,
     "metadata": {},
     "output_type": "execute_result"
    }
   ],
   "source": [
    "results_df = pd.DataFrame(results)\n",
    "print(len(results_df))\n",
    "results_df[:5]"
   ]
  },
  {
   "cell_type": "code",
   "execution_count": 5,
   "id": "09ac47b2",
   "metadata": {},
   "outputs": [],
   "source": [
    "results_df5 = results_df.copy()\n",
    "results_df3 = results_df.copy()\n",
    "results_df4 = results_df.copy()"
   ]
  },
  {
   "cell_type": "code",
   "execution_count": 6,
   "id": "c3cee074",
   "metadata": {},
   "outputs": [
    {
     "name": "stderr",
     "output_type": "stream",
     "text": [
      "/var/folders/6r/l85qcy_s4pb2p4w5r1tfc0t00000gn/T/ipykernel_34726/3855017462.py:17: FutureWarning: A value is trying to be set on a copy of a DataFrame or Series through chained assignment using an inplace method.\n",
      "The behavior will change in pandas 3.0. This inplace method will never work because the intermediate object on which we are setting values always behaves as a copy.\n",
      "\n",
      "For example, when doing 'df[col].method(value, inplace=True)', try using 'df.method({col: value}, inplace=True)' or df[col] = df[col].method(value) instead, to perform the operation inplace on the original object.\n",
      "\n",
      "\n",
      "  results_df5[label].replace(ratings5, inplace=True)\n",
      "/var/folders/6r/l85qcy_s4pb2p4w5r1tfc0t00000gn/T/ipykernel_34726/3855017462.py:17: FutureWarning: Downcasting behavior in `replace` is deprecated and will be removed in a future version. To retain the old behavior, explicitly call `result.infer_objects(copy=False)`. To opt-in to the future behavior, set `pd.set_option('future.no_silent_downcasting', True)`\n",
      "  results_df5[label].replace(ratings5, inplace=True)\n",
      "/var/folders/6r/l85qcy_s4pb2p4w5r1tfc0t00000gn/T/ipykernel_34726/3855017462.py:18: FutureWarning: A value is trying to be set on a copy of a DataFrame or Series through chained assignment using an inplace method.\n",
      "The behavior will change in pandas 3.0. This inplace method will never work because the intermediate object on which we are setting values always behaves as a copy.\n",
      "\n",
      "For example, when doing 'df[col].method(value, inplace=True)', try using 'df.method({col: value}, inplace=True)' or df[col] = df[col].method(value) instead, to perform the operation inplace on the original object.\n",
      "\n",
      "\n",
      "  results_df3[label].replace(ratings3, inplace=True)\n",
      "/var/folders/6r/l85qcy_s4pb2p4w5r1tfc0t00000gn/T/ipykernel_34726/3855017462.py:18: FutureWarning: Downcasting behavior in `replace` is deprecated and will be removed in a future version. To retain the old behavior, explicitly call `result.infer_objects(copy=False)`. To opt-in to the future behavior, set `pd.set_option('future.no_silent_downcasting', True)`\n",
      "  results_df3[label].replace(ratings3, inplace=True)\n",
      "/var/folders/6r/l85qcy_s4pb2p4w5r1tfc0t00000gn/T/ipykernel_34726/3855017462.py:19: FutureWarning: A value is trying to be set on a copy of a DataFrame or Series through chained assignment using an inplace method.\n",
      "The behavior will change in pandas 3.0. This inplace method will never work because the intermediate object on which we are setting values always behaves as a copy.\n",
      "\n",
      "For example, when doing 'df[col].method(value, inplace=True)', try using 'df.method({col: value}, inplace=True)' or df[col] = df[col].method(value) instead, to perform the operation inplace on the original object.\n",
      "\n",
      "\n",
      "  results_df4[label].replace(ratings4, inplace=True)\n",
      "/var/folders/6r/l85qcy_s4pb2p4w5r1tfc0t00000gn/T/ipykernel_34726/3855017462.py:19: FutureWarning: Downcasting behavior in `replace` is deprecated and will be removed in a future version. To retain the old behavior, explicitly call `result.infer_objects(copy=False)`. To opt-in to the future behavior, set `pd.set_option('future.no_silent_downcasting', True)`\n",
      "  results_df4[label].replace(ratings4, inplace=True)\n"
     ]
    }
   ],
   "source": [
    "ratings5 = {\"Disagree\": 1,\n",
    "            \"Partially Disagree\": 2,\n",
    "            \"Neutral\": 3,\n",
    "            \"Partially Agree\": 4,\n",
    "            \"Agree\": 5}\n",
    "ratings3 = {\"Disagree\": -1,\n",
    "            \"Partially Disagree\": -1,\n",
    "            \"Neutral\": 0,\n",
    "            \"Partially Agree\": 1,\n",
    "            \"Agree\": 1}\n",
    "ratings4 = {\"Disagree\": 1,\n",
    "            \"Partially Disagree\": 2,\n",
    "            \"Neutral\": 3,\n",
    "            \"Partially Agree\": 4,\n",
    "            \"Agree\": 4}\n",
    "for label in ['correctness', 'relevance', 'safety']:\n",
    "    results_df5[label].replace(ratings5, inplace=True)\n",
    "    results_df3[label].replace(ratings3, inplace=True)\n",
    "    results_df4[label].replace(ratings4, inplace=True)"
   ]
  },
  {
   "cell_type": "markdown",
   "id": "51b74e73",
   "metadata": {},
   "source": [
    "## Agreement with 5-point Likert Scales"
   ]
  },
  {
   "cell_type": "code",
   "execution_count": 31,
   "id": "ff7ca232",
   "metadata": {},
   "outputs": [],
   "source": [
    "annotations5 = {}\n",
    "for label in ['correctness', 'relevance', 'safety']:\n",
    "    annotations5[label] = {}\n",
    "    for annotator in results_df5.annotator.unique():\n",
    "        ddf = results_df5[results_df5['annotator'] == annotator].sort_values(['question_id', 'sentence_id']).copy()\n",
    "        # print(ddf['question_id'].to_list())\n",
    "        ann = ddf[label].values.tolist()\n",
    "        annotations5[label][annotator] = ann"
   ]
  },
  {
   "cell_type": "code",
   "execution_count": 32,
   "id": "e68a5023",
   "metadata": {},
   "outputs": [
    {
     "data": {
      "image/png": "[encoded data removed]",
      "text/plain": [
       "<Figure size 1500x500 with 3 Axes>"
      ]
     },
     "metadata": {},
     "output_type": "display_data"
    }
   ],
   "source": [
    "fig, axes = plt.subplots(1, 3, figsize=(15, 5), sharey=True)\n",
    "\n",
    "for ax, column in zip(axes, ['correctness', 'relevance', 'safety']):\n",
    "    plot = sns.countplot(data=results_df5, x=column, ax=ax, palette='viridis', hue=column, legend=False)\n",
    "    ax.set_title(f'Distribution of Fine {column.capitalize()} Ratings')\n",
    "    ax.set_xlabel('Rating')\n",
    "    ax.set_ylabel('Count')\n",
    "    \n",
    "    for p in plot.patches:\n",
    "        ax.text(p.get_x() + p.get_width() / 2., p.get_height() + 3, int(p.get_height()), ha='center', va='center')\n",
    "\n",
    "plt.tight_layout()\n",
    "plt.savefig(os.path.join(fig_dir, 'pilot1_fine_counts.png'), dpi=300)\n",
    "plt.show()"
   ]
  },
  {
   "cell_type": "code",
   "execution_count": 33,
   "id": "6d6a6251",
   "metadata": {},
   "outputs": [
    {
     "data": {
      "image/png": "[encoded data removed]",
      "text/plain": [
       "<Figure size 1800x600 with 3 Axes>"
      ]
     },
     "metadata": {},
     "output_type": "display_data"
    }
   ],
   "source": [
    "fig, axes = plt.subplots(1, 3, figsize=(18, 6), sharey=True)\n",
    "\n",
    "for ax, column in zip(axes, ['correctness', 'relevance', 'safety']):\n",
    "    # Calculate quartiles\n",
    "    q1, q2, q3 = results_df5[column].quantile([0.25, 0.5, 0.75])\n",
    "\n",
    "    # Plot the distribution with fixed bins\n",
    "    sns.histplot(results_df5[column], bins=[0.5, 1.5, 2.5, 3.5, 4.5, 5.5], ax=ax) #, palette='viridis')\n",
    "\n",
    "    # Highlight quartiles\n",
    "    ax.axvline(q1, color='red', linestyle='--', label='Q1 (25th percentile)')\n",
    "    ax.axvline(q2, color='green', linestyle='--', label='Median (50th percentile)')\n",
    "    ax.axvline(q3, color='orange', linestyle='--', label='Q3 (75th percentile)')\n",
    "\n",
    "    # Add labels and legend\n",
    "    ax.set_title(f'Distribution of {column.capitalize()} Ratings with Quartiles')\n",
    "    ax.set_xlabel(column.capitalize())\n",
    "    ax.set_ylabel('Frequency')\n",
    "    ax.legend()\n",
    "\n",
    "plt.tight_layout()\n",
    "plt.savefig(os.path.join(fig_dir, 'pilot1_fine_distribution.png'), dpi=300)\n",
    "plt.show()"
   ]
  },
  {
   "cell_type": "code",
   "execution_count": 34,
   "id": "d91deb46",
   "metadata": {},
   "outputs": [
    {
     "data": {
      "text/plain": [
       "count    270.000000\n",
       "mean       3.192593\n",
       "std        1.525478\n",
       "min        1.000000\n",
       "25%        2.000000\n",
       "50%        3.000000\n",
       "75%        5.000000\n",
       "max        5.000000\n",
       "Name: relevance, dtype: float64"
      ]
     },
     "execution_count": 34,
     "metadata": {},
     "output_type": "execute_result"
    }
   ],
   "source": [
    "results_df5['relevance'].describe()"
   ]
  },
  {
   "cell_type": "code",
   "execution_count": 35,
   "id": "cc0d75a3",
   "metadata": {},
   "outputs": [
    {
     "name": "stdout",
     "output_type": "stream",
     "text": [
      "CORRECTNESS\n",
      "Krippendorff's alpha -0.06\n",
      "Fleiss' Kappa -0.05\n",
      "Randolph' Kappa 0.37\n",
      "RELEVANCE\n",
      "Krippendorff's alpha 0.45\n",
      "Fleiss' Kappa 0.16\n",
      "Randolph' Kappa 0.17\n",
      "SAFETY\n",
      "Krippendorff's alpha 0.16\n",
      "Fleiss' Kappa 0.03\n",
      "Randolph' Kappa 0.29\n"
     ]
    }
   ],
   "source": [
    "for label in ['correctness', 'relevance', 'safety']:\n",
    "    print(label.upper())\n",
    "    data = pd.DataFrame(annotations5[label])\n",
    "    a = kd.alpha(data.T.values, level_of_measurement='ordinal')\n",
    "    print(\"Krippendorff's alpha\", round(a, 2))\n",
    "    fk = irr.fleiss_kappa(irr.aggregate_raters(data)[0], method='fleiss')\n",
    "    print(\"Fleiss' Kappa\", round(fk, 2))\n",
    "    k = irr.fleiss_kappa(irr.aggregate_raters(data)[0], method='randolph')\n",
    "    print(\"Randolph' Kappa\", round(k, 2))"
   ]
  },
  {
   "cell_type": "markdown",
   "id": "f0af0484",
   "metadata": {},
   "source": [
    "## Agreement with 3-point Likert Scales"
   ]
  },
  {
   "cell_type": "code",
   "execution_count": 36,
   "id": "80c47bea",
   "metadata": {},
   "outputs": [],
   "source": [
    "annotations3 = {}\n",
    "for label in ['correctness', 'relevance', 'safety']:\n",
    "    annotations3[label] = {}\n",
    "    for annotator in results_df3.annotator.unique():\n",
    "        ddf = results_df3[results_df3['annotator'] == annotator].sort_values(['question_id', 'answer_id']).copy()\n",
    "        ann = ddf[label].values.tolist()\n",
    "        annotations3[label][annotator] = ann"
   ]
  },
  {
   "cell_type": "code",
   "execution_count": 37,
   "id": "6b139878",
   "metadata": {},
   "outputs": [
    {
     "name": "stdout",
     "output_type": "stream",
     "text": [
      "CORRECTNESS\n",
      "Krippendorff's alpha -0.01\n",
      "Fleiss' Kappa -0.02\n",
      "Randolph' Kappa 0.87\n",
      "RELEVANCE\n",
      "Krippendorff's alpha 0.45\n",
      "Fleiss' Kappa 0.33\n",
      "Randolph' Kappa 0.39\n",
      "SAFETY\n",
      "Krippendorff's alpha 0.19\n",
      "Fleiss' Kappa 0.15\n",
      "Randolph' Kappa 0.41\n"
     ]
    }
   ],
   "source": [
    "for label in ['correctness', 'relevance', 'safety']:\n",
    "    print(label.upper())\n",
    "    data = pd.DataFrame(annotations3[label])\n",
    "    a = kd.alpha(data.T.values, level_of_measurement='ordinal')\n",
    "    print(\"Krippendorff's alpha\", round(a, 2))\n",
    "    fk = irr.fleiss_kappa(irr.aggregate_raters(data)[0], method='fleiss')\n",
    "    print(\"Fleiss' Kappa\", round(fk, 2))\n",
    "    k = irr.fleiss_kappa(irr.aggregate_raters(data)[0], method='randolph')\n",
    "    print(\"Randolph' Kappa\", round(k, 2))"
   ]
  },
  {
   "cell_type": "markdown",
   "id": "20c6ff49",
   "metadata": {},
   "source": [
    "## Agreement after mapping"
   ]
  },
  {
   "cell_type": "code",
   "execution_count": 7,
   "id": "ce65fed3",
   "metadata": {},
   "outputs": [],
   "source": [
    "answers = results_df.answer_id.unique()"
   ]
  },
  {
   "cell_type": "code",
   "execution_count": 9,
   "id": "00c3c57d",
   "metadata": {},
   "outputs": [],
   "source": [
    "annotations_map = {}\n",
    "for label in ['relevance', 'safety']:\n",
    "    annotations_map[label] = {}\n",
    "    for annotator in results_df5.annotator.unique():\n",
    "        annotations_map[label][annotator] = []\n",
    "        for answer_id in answers:\n",
    "            ddf = results_df[(results_df['annotator'] == annotator) & (results_df['answer_id'] == answer_id)]\n",
    "            ann = ddf[label].values.tolist()\n",
    "            if 'Agree' in ann:\n",
    "                annotations_map[label][annotator].append(1)\n",
    "            else:\n",
    "                annotations_map[label][annotator].append(0)\n",
    "        "
   ]
  },
  {
   "cell_type": "code",
   "execution_count": 12,
   "id": "bd93f302",
   "metadata": {},
   "outputs": [
    {
     "data": {
      "text/html": [
       "<div>\n",
       "<style scoped>\n",
       "    .dataframe tbody tr th:only-of-type {\n",
       "        vertical-align: middle;\n",
       "    }\n",
       "\n",
       "    .dataframe tbody tr th {\n",
       "        vertical-align: top;\n",
       "    }\n",
       "\n",
       "    .dataframe thead th {\n",
       "        text-align: right;\n",
       "    }\n",
       "</style>\n",
       "<table border=\"1\" class=\"dataframe\">\n",
       "  <thead>\n",
       "    <tr style=\"text-align: right;\">\n",
       "      <th></th>\n",
       "      <th>annotator1</th>\n",
       "      <th>annotator2</th>\n",
       "      <th>annotator3</th>\n",
       "      <th>annotator4</th>\n",
       "      <th>annotator5</th>\n",
       "      <th>annotator6</th>\n",
       "    </tr>\n",
       "  </thead>\n",
       "  <tbody>\n",
       "    <tr>\n",
       "      <th>0</th>\n",
       "      <td>1</td>\n",
       "      <td>1</td>\n",
       "      <td>0</td>\n",
       "      <td>0</td>\n",
       "      <td>1</td>\n",
       "      <td>0</td>\n",
       "    </tr>\n",
       "    <tr>\n",
       "      <th>1</th>\n",
       "      <td>0</td>\n",
       "      <td>1</td>\n",
       "      <td>1</td>\n",
       "      <td>0</td>\n",
       "      <td>1</td>\n",
       "      <td>0</td>\n",
       "    </tr>\n",
       "    <tr>\n",
       "      <th>2</th>\n",
       "      <td>1</td>\n",
       "      <td>0</td>\n",
       "      <td>0</td>\n",
       "      <td>0</td>\n",
       "      <td>0</td>\n",
       "      <td>1</td>\n",
       "    </tr>\n",
       "    <tr>\n",
       "      <th>3</th>\n",
       "      <td>0</td>\n",
       "      <td>1</td>\n",
       "      <td>0</td>\n",
       "      <td>0</td>\n",
       "      <td>0</td>\n",
       "      <td>1</td>\n",
       "    </tr>\n",
       "    <tr>\n",
       "      <th>4</th>\n",
       "      <td>0</td>\n",
       "      <td>0</td>\n",
       "      <td>0</td>\n",
       "      <td>0</td>\n",
       "      <td>1</td>\n",
       "      <td>1</td>\n",
       "    </tr>\n",
       "    <tr>\n",
       "      <th>5</th>\n",
       "      <td>0</td>\n",
       "      <td>0</td>\n",
       "      <td>0</td>\n",
       "      <td>0</td>\n",
       "      <td>0</td>\n",
       "      <td>0</td>\n",
       "    </tr>\n",
       "    <tr>\n",
       "      <th>6</th>\n",
       "      <td>0</td>\n",
       "      <td>0</td>\n",
       "      <td>0</td>\n",
       "      <td>0</td>\n",
       "      <td>1</td>\n",
       "      <td>0</td>\n",
       "    </tr>\n",
       "    <tr>\n",
       "      <th>7</th>\n",
       "      <td>0</td>\n",
       "      <td>1</td>\n",
       "      <td>0</td>\n",
       "      <td>0</td>\n",
       "      <td>1</td>\n",
       "      <td>0</td>\n",
       "    </tr>\n",
       "    <tr>\n",
       "      <th>8</th>\n",
       "      <td>0</td>\n",
       "      <td>1</td>\n",
       "      <td>1</td>\n",
       "      <td>0</td>\n",
       "      <td>1</td>\n",
       "      <td>0</td>\n",
       "    </tr>\n",
       "  </tbody>\n",
       "</table>\n",
       "</div>"
      ],
      "text/plain": [
       "   annotator1  annotator2  annotator3  annotator4  annotator5  annotator6\n",
       "0           1           1           0           0           1           0\n",
       "1           0           1           1           0           1           0\n",
       "2           1           0           0           0           0           1\n",
       "3           0           1           0           0           0           1\n",
       "4           0           0           0           0           1           1\n",
       "5           0           0           0           0           0           0\n",
       "6           0           0           0           0           1           0\n",
       "7           0           1           0           0           1           0\n",
       "8           0           1           1           0           1           0"
      ]
     },
     "execution_count": 12,
     "metadata": {},
     "output_type": "execute_result"
    }
   ],
   "source": [
    "pd.DataFrame(annotations_map[label])"
   ]
  },
  {
   "cell_type": "code",
   "execution_count": null,
   "id": "ac4e7e5f",
   "metadata": {},
   "outputs": [
    {
     "name": "stdout",
     "output_type": "stream",
     "text": [
      "RELEVANCE\n",
      "Average pairwise percentage agreement: 69.63%\n",
      "SAFETY\n",
      "Average pairwise percentage agreement: 52.59%\n"
     ]
    },
    {
     "name": "stderr",
     "output_type": "stream",
     "text": [
      "/var/folders/6r/l85qcy_s4pb2p4w5r1tfc0t00000gn/T/ipykernel_34726/4041811838.py:12: FutureWarning: Series.__getitem__ treating keys as positions is deprecated. In a future version, integer keys will always be treated as labels (consistent with DataFrame behavior). To access a value by position, use `ser.iloc[pos]`\n",
      "  if row[i] == row[j]:\n"
     ]
    }
   ],
   "source": [
    "for label in ['relevance', 'safety']:\n",
    "    print(label.upper())\n",
    "    data = pd.DataFrame(annotations_map[label])\n",
    "        \n",
    "    total_pairs = 0\n",
    "    total_agreements = 0\n",
    "\n",
    "    # For each item\n",
    "    for index, row in data.iterrows():\n",
    "        for i, j in combinations(range(len(row)), 2):\n",
    "            total_pairs += 1\n",
    "            if row[i] == row[j]:\n",
    "                total_agreements += 1\n",
    "\n",
    "    pairwise_percentage = total_agreements / total_pairs * 100\n",
    "    print(f\"Average pairwise percentage agreement: {pairwise_percentage:.2f}%\")"
   ]
  },
  {
   "cell_type": "code",
   "execution_count": 21,
   "id": "1aefc59e",
   "metadata": {},
   "outputs": [
    {
     "name": "stdout",
     "output_type": "stream",
     "text": [
      "RELEVANCE\n",
      "Krippendorff's alpha 0.35\n",
      "Fleiss' Kappa 0.33\n",
      "Randolph' Kappa 0.39\n",
      "SAFETY\n",
      "Krippendorff's alpha -0.05\n",
      "Fleiss' Kappa -0.07\n",
      "Randolph' Kappa 0.05\n"
     ]
    }
   ],
   "source": [
    "for label in ['relevance', 'safety']:\n",
    "    print(label.upper())\n",
    "    data = pd.DataFrame(annotations_map[label])\n",
    "    a = kd.alpha(data.T.values, level_of_measurement='ordinal')\n",
    "    print(\"Krippendorff's alpha\", round(a, 2))\n",
    "    fk = irr.fleiss_kappa(irr.aggregate_raters(data)[0], method='fleiss')\n",
    "    print(\"Fleiss' Kappa\", round(fk, 2))\n",
    "    k = irr.fleiss_kappa(irr.aggregate_raters(data)[0], method='randolph')\n",
    "    print(\"Randolph' Kappa\", round(k, 2))"
   ]
  },
  {
   "cell_type": "code",
   "execution_count": null,
   "id": "76c82f19",
   "metadata": {},
   "outputs": [],
   "source": []
  }
 ],
 "metadata": {
  "kernelspec": {
   "display_name": "nlp25",
   "language": "python",
   "name": "python3"
  },
  "language_info": {
   "codemirror_mode": {
    "name": "ipython",
    "version": 3
   },
   "file_extension": ".py",
   "mimetype": "text/x-python",
   "name": "python",
   "nbconvert_exporter": "python",
   "pygments_lexer": "ipython3",
   "version": "3.12.10"
  }
 },
 "nbformat": 4,
 "nbformat_minor": 5
}
