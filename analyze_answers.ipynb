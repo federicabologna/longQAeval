{
 "cells": [
  {
   "cell_type": "code",
   "execution_count": 2,
   "metadata": {},
   "outputs": [
    {
     "name": "stdout",
     "output_type": "stream",
     "text": [
      "Intel MKL WARNING: Support of Intel(R) Streaming SIMD Extensions 4.2 (Intel(R) SSE4.2) enabled only processors has been deprecated. Intel oneAPI Math Kernel Library 2025.0 will require Intel(R) Advanced Vector Extensions (Intel(R) AVX) instructions.\n",
      "Intel MKL WARNING: Support of Intel(R) Streaming SIMD Extensions 4.2 (Intel(R) SSE4.2) enabled only processors has been deprecated. Intel oneAPI Math Kernel Library 2025.0 will require Intel(R) Advanced Vector Extensions (Intel(R) AVX) instructions.\n"
     ]
    }
   ],
   "source": [
    "import os\n",
    "import random\n",
    "import json\n",
    "import pandas as pd\n",
    "import numpy as np\n",
    "import spacy\n",
    "from sklearn.feature_extraction.text import CountVectorizer\n"
   ]
  },
  {
   "cell_type": "code",
   "execution_count": 3,
   "metadata": {},
   "outputs": [],
   "source": [
    "dir = os.getcwd()\n",
    "data_dir = os.path.join(dir, 'data')\n",
    "os.makedirs(data_dir, exist_ok=True)\n",
    "output_dir = os.path.join(dir, 'output')\n",
    "os.makedirs(output_dir, exist_ok=True)"
   ]
  },
  {
   "cell_type": "code",
   "execution_count": 4,
   "metadata": {},
   "outputs": [],
   "source": [
    "with open(os.path.join(output_dir, \"kqa_answers_gpt4_five.jsonl\"), 'r', encoding='utf-8') as jsonl_file:\n",
    "    gpt4 = [json.loads(line) for line in jsonl_file]"
   ]
  },
  {
   "cell_type": "code",
   "execution_count": 5,
   "metadata": {},
   "outputs": [],
   "source": [
    "with open(os.path.join(output_dir, \"kqa_answers_gpt4_five_1.jsonl\"), 'r', encoding='utf-8') as jsonl_file:\n",
    "    gpt4_old = [json.loads(line) for line in jsonl_file]"
   ]
  },
  {
   "cell_type": "code",
   "execution_count": 6,
   "metadata": {},
   "outputs": [],
   "source": [
    "with open(os.path.join(output_dir, \"kqa_answers_llama_five.jsonl\"), 'r', encoding='utf-8') as jsonl_file:\n",
    "    llama = [json.loads(line) for line in jsonl_file]"
   ]
  },
  {
   "cell_type": "code",
   "execution_count": 7,
   "metadata": {},
   "outputs": [],
   "source": [
    "with open(os.path.join(output_dir, \"kqa_answers_llama_five_1.jsonl\"), 'r', encoding='utf-8') as jsonl_file:\n",
    "    llama_old = [json.loads(line) for line in jsonl_file]"
   ]
  },
  {
   "cell_type": "code",
   "execution_count": 8,
   "metadata": {},
   "outputs": [
    {
     "name": "stdout",
     "output_type": "stream",
     "text": [
      "{'Question': 'Is that normal for shoulder pain to come with breathing', 'Free_form_answer': 'If you are experiencing shoulder pain while breathing, it could be due to musculoskeletal problems. However, it could also be linked to issues with your lungs, pleura, abdomen or heart. It is important to consult a doctor for an evaluation. If you experience chest pain or shortness of breath along with your shoulder pain, seek immediate medical attention.', 'Must_have': ['Shoulder pain associated with breathing can be the result of abdominal issues.', ' You should seek immediate medical attention if your shoulder pain is accompanied by shortness of breath.', ' Shoulder pain associated with breathing can be the result of lung and pleura issues.', ' Shoulder pain associated with breathing can be the result of musculoskeletal issues.', ' You should seek immediate medical attention if you have chest pain.', ' Shoulder pain associated with breathing should be evaluated by a doctor.', ' Shoulder pain associated with breathing can be the result of heart issues.'], 'Nice_to_have': [], 'id': 112, 'answer': \"Shoulder pain that worsens with breathing can be a concerning symptom. There are several possible explanations for this phenomenon, and it's not always a straightforward answer.\\n\\nIn some cases, shoulder pain can be referred pain from a lung condition, such as pneumonia, pleurisy, or a pulmonary embolism. This type of pain is usually sharp and stabbing, and it can worsen with deep breathing or movement.\\n\\nAnother possible explanation is that the shoulder pain is related to a musculoskeletal issue, such as a strain or sprain of the shoulder muscles or tendons. Breathing can cause movement in the shoulder joint, which can irritate the affected tissues and worsen the pain.\\n\\nAdditionally, some conditions like costochondritis (inflammation of the cartilage that connects the ribs to the breastbone) or Tietze's syndrome (inflammation of the muscles and cartilage in the chest wall) can cause shoulder pain that worsens with breathing.\\n\\nIt's also possible that the shoulder pain is related to a gastrointestinal issue, such as gallbladder disease or pancreatitis, which can radiate pain to the shoulder and worsen with breathing.\\n\\nGiven the complexity of this symptom, it's highly recommended to seek medical evaluation to determine the underlying cause of your shoulder pain. A thorough examination, imaging studies, and diagnostic tests can help identify the root cause and guide treatment.\"}\n",
      "__________________________\n",
      "{'Question': 'what causes ringworm ?', 'Free_form_answer': 'Ringworm is a contagious skin infection caused by fungi. It is characterized by a circular, red, and itchy rash and can affect the skin, hair, and nails. The infection can be transmitted through contact with people or pets, as well as through shared spaces like locker rooms and shower stalls.Treatment usually consists of topical antifungal drugs.', 'Must_have': ['Ringworm is a contagious skin infection caused by fungi.', 'Ringworm can be transmitted through contact with people or pets.', 'Ringworm can be transmitted through shared spaces like locker rooms and shower stalls.'], 'Nice_to_have': ['Ringworm is characterized by a circular, red, and itchy rash.', ' Ringworm can affect the skin, hair, and nails.', 'Treatment for ringworm usually consists of topical antifungal drugs.'], 'id': 199, 'answer': 'Ringworm, also known as tinea, is a fungal infection that affects the skin, hair, and nails. It is caused by a group of fungi called dermatophytes, which include Trichophyton, Microsporum, and Epidermophyton. These fungi thrive in warm, moist environments and can infect humans through direct contact with an infected person, animal, or contaminated object.\\n\\nRingworm can also be spread through indirect contact, such as walking barefoot in areas where the fungus is present, or by sharing personal care items like towels or clothing. In some cases, ringworm can be contracted from infected animals, such as cats or dogs.\\n\\nThe most common causes of ringworm include:\\n\\n* Direct contact with an infected person or animal\\n* Indirect contact with contaminated objects or surfaces\\n* Sharing personal care items\\n* Walking barefoot in areas where the fungus is present\\n* Poor hygiene and skin care\\n\\nSymptoms of ringworm typically appear within 4-10 days of exposure and can include a circular, itchy rash, redness, and scaling. Treatment for ringworm usually involves antifungal medications, either topical or oral, and good hygiene practices to prevent further spread of the infection.'}\n",
      "__________________________\n",
      "{'Question': 'Are lutein and omega 3 good for vision ?', 'Free_form_answer': 'Lutein is a carotenoid compound which is available in green leafy vegetables (kale, broccoli, spinach, lettuce, and peas), along with other foods, such as eggs, pistachios, and corn. Lutein is found in high concentration in the retina, which is the light sensitive area of the eye. Studies have attributed anti-inflammatory, anti-oxidative, and blue light-filtering effects to lutein. The studies suggest that lutein may protect against and reduce the severity of many eye diseases. By reducing damage to the retina, lutein may enhance vision in both normal and diseased eyes.\\nDocosahexaenoic acid (DHA), an omega-3 fatty acid found naturally in fish, is also found in the retina. DHA is involved in the process of transforming light to a neurological signal and generating light sensitive pigment. Studies on the effects of DHA (omega 3) found mixed results on improvement of vision, but no studies showed a negative effect. There is no medical recommendation for omega 3 consumption in eye diseases or to improve vision.', 'Must_have': ['Lutein may protect against and reduce severity the of many eye diseases.', 'Lutein reduces damage to the retina, which enhances vision in both normal and diseased eyes.', 'Studies on the effects of DHA (omega 3) found mixed results on improvement of vision.', ' There is no medical recommendation for omega 3 consumption in eye diseases or to improve vision.', 'Lutein is found to have a positive effect on vision.'], 'Nice_to_have': ['DHA is also found in the retina, and is needed for the process of transforming light to a neurological signal, and for generating light sensitive pigment.', 'Lutein is found in high concentration in the retina, the light sensitive area of the eye.', 'Omega 3 has mixed results regarding positive effects on vision but no negative effects were found.', 'Docosahexaenoic acid (DHA), an omega-3 fatty acid, is found naturally in fish.', 'Lutein is a carotenoid compound found in green leafy vegetables, eggs, pistachios, and corn.', 'Studies have reported anti-inflammatory, anti-oxidative, and blue light-filtering effects attributed to lutein concentration.'], 'id': 11, 'answer': \"Yes, lutein and omega-3 fatty acids are beneficial for vision health.\\n\\nLutein is a carotenoid that acts as an antioxidant, protecting the macula, the part of the retina responsible for central vision, from damage caused by blue light and free radicals. High levels of lutein in the macula are associated with a reduced risk of age-related macular degeneration (AMD) and cataracts. Foods rich in lutein include leafy greens, such as spinach and kale, and supplements are also available.\\n\\nOmega-3 fatty acids, particularly DHA (docosahexaenoic acid) and EPA (eicosapentaenoic acid), play a crucial role in the structure and function of the retina. They help maintain the integrity of the retinal cells and support the visual processing system. Omega-3 deficiency has been linked to an increased risk of AMD, dry eye syndrome, and other eye problems. Fatty fish, such as salmon and sardines, are rich in omega-3s, and supplements are also available.\\n\\nWhile lutein and omega-3s are beneficial for vision, it's essential to note that they may not improve existing vision problems but rather help prevent or slow the progression of age-related eye diseases. A balanced diet and regular eye exams are still essential for maintaining healthy vision.\"}\n",
      "__________________________\n",
      "{'Question': 'Is the miconazole powder the same as regular baby powder?', 'Free_form_answer': 'Miconazole powder and baby powder are two different products. Baby powder is a non-pharmaceutical powder made from talc or corn starch. It is used to protect the skin, keep it soft and dry, and prevent irritations and rashes. In babies, it is used to prevent diaper rash. However, the American Academy of Pediatrics (AAP) advises against using baby powder due to potential harmful effects from talc inhalation and carcinogens that may be present in some products.\\nMiconazole belongs to the azole family of antifungal agents. It is mainly used to treat vaginal candida infections but can also be used to treat skin fungal infections like ringworm and athlete’s foot. Miconazole comes in different forms, including powder, cream, ointment, or suppository for intervaginal treatment.\\nMild diaper rash can be treated with topical barriers like creams or pastes. For persistent cases or when a fungal infection is suspected, antifungal treatment like miconazole may recommended by your health provider.', 'Must_have': ['The American Academy of Pediatrics (AAP) recommends against the usage of baby powder due to possible severe adverse effects from talc inhalation.', ' The American Academy of Pediatrics (AAP) recommends against the usage of baby powder due to possible carcinogens found in some of the products.', ' Miconazole powder and baby powder are two different products.', ' Miconazole is an antifungal agent from the azole family.', ' Baby powder is a non-pharmaceutical powder usually based on talc or corn starch.', ' Mild diaper rash can be treated with topical barriers such as creams or pastes.', ' In more persistent cases of diaper rash or when there is a suspected fungal infection, adding antifungal treatment, such as miconazole may recommended by your health provider.'], 'Nice_to_have': ['Baby powder is traditionally used to protect infants from diaper rash.', ' Miconazole is typically used to treat vaginal candida, a fungal infection.', ' Miconazole can also be used to treat skin fungal infections such as ringworm and athletes’ foot.', ' Miconazole can be administered as a powder, a cream, an ointment, or as a suppository for intervaginal treatment.', ' Baby powder is used to protect skin and keep it soft and dry, and to protect from irritations and rashes.'], 'id': 113, 'answer': \"No, miconazole powder is not the same as regular baby powder. Miconazole is an antifungal medication used to treat fungal infections, such as diaper rash caused by yeast. It works by stopping the growth of fungi. Regular baby powder, on the other hand, is usually made of talc or cornstarch and is used to absorb moisture and reduce friction on a baby's skin. While regular baby powder may help to reduce moisture and prevent diaper rash, it does not contain any medication to treat fungal infections. If your baby has a diaper rash caused by a yeast infection, your pediatrician may recommend using a miconazole powder to help clear up the infection.\"}\n",
      "__________________________\n",
      "{'Question': 'The reason I contacted you via the app today is to verify if dry mouth is a per-diabetic symptom?', 'Free_form_answer': 'Dry mouth could indicate diabetes type 1 or 2 due to high blood sugar levels. However, it can also occur in individuals without diabetes due to factors such as dehydration, breathing through the mouth, smoking, alcohol consumption, aging, some medications, autoimmune diseases, and other medical conditions. If you are experiencing symptoms such as increased thirst, increased urination, and increased appetite with unintentional weight loss, in addition to dry mouth, it is recommended to consult with your doctor to determine if diabetes could be the cause.', 'Must_have': ['Dry mouth could be a symptom of diabetes ', ' If you are suffering from dry mouth and increased urination, you should consult your doctor about a possible onset of diabetes.', ' If you are suffering from dry mouth and increased thirst, you should consult your doctor about a possible onset of diabetes.', ' If you are suffering from dry mouth and increased appetite with unintentional weight loss, you should consult your doctor about a possible onset of diabetes.'], 'Nice_to_have': ['Dry mouth can occur due to dehydration.', ' Dry mouth could be due to some medications.', ' Dry mouth can occur due to breathing through your mouth.', ' Dry mouth can occur due to smoking.', ' Dry mouth can occur due to medications.', ' Dry mouth can occur due to aging.', ' Dry mouth can occur due to other medical conditions.', ' Dry mouth can occur due to alcohol use.'], 'id': 154, 'answer': \"Dry mouth, also known as xerostomia, can be associated with various conditions, including diabetes. However, it is not typically considered a pre-diabetic symptom. Pre-diabetes is a condition where blood sugar levels are higher than normal but not high enough to be classified as diabetes.\\n\\n     Dry mouth is more commonly linked to diabetes itself, particularly if blood sugar levels are not well-controlled. High blood sugar levels can damage the salivary glands, leading to decreased saliva production and dry mouth.\\n\\n     That being said, some people with pre-diabetes may experience dry mouth due to other underlying factors, such as medication side effects, dehydration, or other health conditions. If you're experiencing persistent or severe dry mouth, it's best to consult with your healthcare provider to rule out any underlying conditions.\\n\\n     If you're concerned about pre-diabetes or diabetes, common symptoms to look out for include increased thirst and urination, fatigue, blurred vision, and slow healing of cuts and wounds. Your healthcare provider can assess your risk factors and perform diagnostic tests to determine if you have pre-diabetes or diabetes.\"}\n",
      "__________________________\n"
     ]
    }
   ],
   "source": [
    "for i in random.sample(llama, 5):\n",
    "    print(i)\n",
    "    print(\"__________________________\")"
   ]
  },
  {
   "cell_type": "markdown",
   "metadata": {},
   "source": [
    "# Number of words of GPT-4 and Llama answers"
   ]
  },
  {
   "cell_type": "code",
   "execution_count": 9,
   "metadata": {},
   "outputs": [
    {
     "data": {
      "text/html": [
       "<div>\n",
       "<style scoped>\n",
       "    .dataframe tbody tr th:only-of-type {\n",
       "        vertical-align: middle;\n",
       "    }\n",
       "\n",
       "    .dataframe tbody tr th {\n",
       "        vertical-align: top;\n",
       "    }\n",
       "\n",
       "    .dataframe thead th {\n",
       "        text-align: right;\n",
       "    }\n",
       "</style>\n",
       "<table border=\"1\" class=\"dataframe\">\n",
       "  <thead>\n",
       "    <tr style=\"text-align: right;\">\n",
       "      <th></th>\n",
       "      <th>Type</th>\n",
       "      <th>Mean # Tokens</th>\n",
       "      <th>Q1 # Tokens</th>\n",
       "      <th>Q2 # Tokens</th>\n",
       "      <th>Max # Tokens</th>\n",
       "      <th>Min # Tokens</th>\n",
       "    </tr>\n",
       "  </thead>\n",
       "  <tbody>\n",
       "    <tr>\n",
       "      <th>0</th>\n",
       "      <td>gpt4</td>\n",
       "      <td>124.74</td>\n",
       "      <td>93.75</td>\n",
       "      <td>136.25</td>\n",
       "      <td>291</td>\n",
       "      <td>43</td>\n",
       "    </tr>\n",
       "    <tr>\n",
       "      <th>1</th>\n",
       "      <td>llama</td>\n",
       "      <td>169.59</td>\n",
       "      <td>130.25</td>\n",
       "      <td>213.00</td>\n",
       "      <td>300</td>\n",
       "      <td>68</td>\n",
       "    </tr>\n",
       "    <tr>\n",
       "      <th>2</th>\n",
       "      <td>physician</td>\n",
       "      <td>106.36</td>\n",
       "      <td>73.00</td>\n",
       "      <td>122.50</td>\n",
       "      <td>330</td>\n",
       "      <td>25</td>\n",
       "    </tr>\n",
       "  </tbody>\n",
       "</table>\n",
       "</div>"
      ],
      "text/plain": [
       "        Type  Mean # Tokens  Q1 # Tokens  Q2 # Tokens  Max # Tokens  \\\n",
       "0       gpt4         124.74        93.75       136.25           291   \n",
       "1      llama         169.59       130.25       213.00           300   \n",
       "2  physician         106.36        73.00       122.50           330   \n",
       "\n",
       "   Min # Tokens  \n",
       "0            43  \n",
       "1            68  \n",
       "2            25  "
      ]
     },
     "execution_count": 9,
     "metadata": {},
     "output_type": "execute_result"
    }
   ],
   "source": [
    "stats = []\n",
    "\n",
    "for typ in ['gpt4', 'llama', 'physician']:\n",
    "\n",
    "    key = typ\n",
    "    if typ == 'physician':\n",
    "        key = 'gpt4'\n",
    "    with open(os.path.join(output_dir, f\"kqa_answers_{key}_five.jsonl\"), 'r', encoding='utf-8') as jsonl_file:\n",
    "        data = [json.loads(line) for line in jsonl_file]\n",
    "    \n",
    "    # Load the spaCy English model\n",
    "    nlp = spacy.load(\"en_core_web_sm\")\n",
    "    # Process the text with spaCy to segment into sentences\n",
    "    n_words = []\n",
    "    for d in data:\n",
    "        if typ == 'physician':\n",
    "            doc = nlp(d['Free_form_answer'])\n",
    "        else:\n",
    "            doc = nlp(d['answer'])\n",
    "        n_words.append(len([token for token in doc]))\n",
    "        if len([token for token in doc]) < 10:\n",
    "            print(d)\n",
    "    \n",
    "    stats.append({'Type': typ,\n",
    "                  'Mean # Tokens': np.mean(n_words),\n",
    "                  'Q1 # Tokens': np.percentile(n_words, 25),\n",
    "                  'Q2 # Tokens': np.percentile(n_words, 75),\n",
    "                  'Max # Tokens': np.max(n_words),\n",
    "                  'Min # Tokens': np.min(n_words),})\n",
    "\n",
    "pd.DataFrame(stats)"
   ]
  },
  {
   "cell_type": "markdown",
   "metadata": {},
   "source": [
    "# Number of sentences in GPT-4 and Llama answers"
   ]
  },
  {
   "cell_type": "code",
   "execution_count": 10,
   "metadata": {},
   "outputs": [
    {
     "data": {
      "text/html": [
       "<div>\n",
       "<style scoped>\n",
       "    .dataframe tbody tr th:only-of-type {\n",
       "        vertical-align: middle;\n",
       "    }\n",
       "\n",
       "    .dataframe tbody tr th {\n",
       "        vertical-align: top;\n",
       "    }\n",
       "\n",
       "    .dataframe thead th {\n",
       "        text-align: right;\n",
       "    }\n",
       "</style>\n",
       "<table border=\"1\" class=\"dataframe\">\n",
       "  <thead>\n",
       "    <tr style=\"text-align: right;\">\n",
       "      <th></th>\n",
       "      <th>Type</th>\n",
       "      <th>Mean # Sentences</th>\n",
       "      <th>Q1 # Sentences</th>\n",
       "      <th>Q2 # Sentences</th>\n",
       "      <th>Max # Sentences</th>\n",
       "      <th>Min # Sentences</th>\n",
       "    </tr>\n",
       "  </thead>\n",
       "  <tbody>\n",
       "    <tr>\n",
       "      <th>0</th>\n",
       "      <td>gpt4</td>\n",
       "      <td>5.89</td>\n",
       "      <td>4.0</td>\n",
       "      <td>6.0</td>\n",
       "      <td>21</td>\n",
       "      <td>2</td>\n",
       "    </tr>\n",
       "    <tr>\n",
       "      <th>1</th>\n",
       "      <td>llama</td>\n",
       "      <td>7.19</td>\n",
       "      <td>5.0</td>\n",
       "      <td>8.0</td>\n",
       "      <td>20</td>\n",
       "      <td>3</td>\n",
       "    </tr>\n",
       "    <tr>\n",
       "      <th>2</th>\n",
       "      <td>physician</td>\n",
       "      <td>4.62</td>\n",
       "      <td>3.0</td>\n",
       "      <td>6.0</td>\n",
       "      <td>15</td>\n",
       "      <td>1</td>\n",
       "    </tr>\n",
       "  </tbody>\n",
       "</table>\n",
       "</div>"
      ],
      "text/plain": [
       "        Type  Mean # Sentences  Q1 # Sentences  Q2 # Sentences  \\\n",
       "0       gpt4              5.89             4.0             6.0   \n",
       "1      llama              7.19             5.0             8.0   \n",
       "2  physician              4.62             3.0             6.0   \n",
       "\n",
       "   Max # Sentences  Min # Sentences  \n",
       "0               21                2  \n",
       "1               20                3  \n",
       "2               15                1  "
      ]
     },
     "execution_count": 10,
     "metadata": {},
     "output_type": "execute_result"
    }
   ],
   "source": [
    "stats = []\n",
    "\n",
    "for typ in ['gpt4', 'llama', 'physician']:\n",
    "\n",
    "    key = typ\n",
    "    if typ == 'physician':\n",
    "        key = 'gpt4'\n",
    "    with open(os.path.join(output_dir, f\"kqa_answers_{key}_five.jsonl\"), 'r', encoding='utf-8') as jsonl_file:\n",
    "        data = [json.loads(line) for line in jsonl_file]\n",
    "    \n",
    "    # Load the spaCy English model\n",
    "    nlp = spacy.load(\"en_core_web_sm\")\n",
    "    # Process the text with spaCy to segment into sentences\n",
    "    n_sentences = []\n",
    "    for d in data:\n",
    "        if typ == 'physician':\n",
    "            doc = nlp(d['Free_form_answer'])\n",
    "        else:\n",
    "            doc = nlp(d['answer'])\n",
    "        n_sentences.append(len([sentence.text for sentence in doc.sents]))\n",
    "    \n",
    "    stats.append({'Type': typ,\n",
    "                  'Mean # Sentences': np.mean(n_sentences),\n",
    "                  'Q1 # Sentences': np.percentile(n_sentences, 25),\n",
    "                  'Q2 # Sentences': np.percentile(n_sentences, 75),\n",
    "                  'Max # Sentences': np.max(n_sentences),\n",
    "                  'Min # Sentences': np.min(n_sentences),})\n",
    "\n",
    "pd.DataFrame(stats)"
   ]
  },
  {
   "cell_type": "markdown",
   "metadata": {},
   "source": [
    "# Number of cutoff responses"
   ]
  },
  {
   "cell_type": "code",
   "execution_count": 7,
   "metadata": {},
   "outputs": [
    {
     "name": "stdout",
     "output_type": "stream",
     "text": [
      "gpt4 new 59\n",
      "To measure blood pressure, you will need a blood pressure cuff (sphygmomanometer) and a stethoscope. Here are the steps to correctly measure blood pressure:\n",
      "\n",
      "1. **Prepare the Patient**: The patient should relax, sitting comfortably with their back supported, legs uncrossed, and not having smoked, exercised, or consumed caffeine within 30 minutes prior to measurement.\n",
      "\n",
      "2. **Position the Arm**: Arm should be supported on a flat surface at heart level. The upper arm should be bare, with clothing removed or sleeves raised.\n",
      "\n",
      "3. **Place the Cuff**: Wrap the cuff around the upper arm, making sure it’s snug but not too tight. The lower edge of the cuff should be about an inch above the bend of the elbow.\n",
      "\n",
      "4. **Position the Stethoscope**: Place the stethoscope’s earpieces in your ears and the diaphragm on the inside of the elbow crease directly over the brachial artery.\n",
      "\n",
      "5. **Inflate the Cuff**: Inflate the cuff by pumping the bulb until the gauge reads about 20-30 mmHg above usual systolic pressure (if unknown, inflate to 180 mmHg). The cuff should compress the arm enough so no pulse is felt at the wrist.\n",
      "\n",
      "6. **Measure the Pressure**: Slowly deflate the cuff by opening the valve and listen through the stethoscope. The first knocking sound (systolic pressure) is noted. Continue to let air out slowly; \n",
      "\n",
      "llama new 118\n",
      "Yes, there are several anti-nausea medications available that can help alleviate nausea and vomiting, allowing fluids to stay down. These medications are often prescribed for conditions such as gastroenteritis, motion sickness, and chemotherapy-induced nausea. Some common anti-nausea medications include:\n",
      "\n",
      "1. Ondansetron (Zofran): This medication is often prescribed for nausea and vomiting caused by chemotherapy, radiation therapy, and surgery.\n",
      "2. Metoclopramide (Reglan): This medication is often used to treat nausea and vomiting caused by gastroenteritis, migraines, and other conditions.\n",
      "3. Dimenhydrinate (Dramamine): This medication is often used to treat motion sickness and can also be used to alleviate nausea and vomiting caused by other conditions.\n",
      "4. Prochlorperazine (Compazine): This medication is often used to treat nausea and vomiting caused by gastroenteritis, migraines, and other conditions.\n",
      "\n",
      "It's essential to consult with a healthcare professional before taking any anti-nausea medication, as they can recommend the best medication and dosage for your specific condition. Additionally, it's crucial to follow the recommended dosage and administration instructions carefully to ensure the medication is effective and safe.\n",
      "\n",
      "In addition to medication, there are also some non-pharmacological measures that can help alleviate nausea and vomiting, such as:\n",
      "\n",
      "* Drinking small, frequent sips of fluids\n",
      "* Avoiding spicy or fatty foods\n",
      "* Eating bland, easily digestible foods\n",
      "* Applying a cold compress \n",
      "\n",
      "llama new 170\n",
      "Sciatica is a type of pain that radiates along the sciatic nerve, which runs from the lower back down to the legs. The sciatic nerve is the longest nerve in the body and is formed by the combination of five nerve roots that emerge from the spinal cord in the lower back.\n",
      "\n",
      "Sciatica occurs when the sciatic nerve is irritated or compressed, often due to a herniated disk, bone spur, or other condition that puts pressure on the nerve. This can cause pain, numbness, tingling, and weakness in the lower back, buttocks, and legs.\n",
      "\n",
      "The symptoms of sciatica can vary depending on the location and severity of the nerve compression. Common symptoms include:\n",
      "\n",
      "* Pain that radiates from the lower back down to the buttocks and legs\n",
      "* Numbness or tingling in the legs or feet\n",
      "* Weakness in the legs or feet\n",
      "* Difficulty controlling the bowels or bladder\n",
      "* Pain that worsens with sitting, standing, or bending\n",
      "\n",
      "Sciatica can be caused by a variety of factors, including:\n",
      "\n",
      "* Herniated disk\n",
      "* Degenerative disk disease\n",
      "* Spondylolisthesis (a condition in which a vertebra slips out of place)\n",
      "* Piriformis syndrome (a condition in which the piriformis muscle compresses the sciatic nerve)\n",
      "* Spinal stenosis (a narrowing of the spinal canal) \n",
      "\n"
     ]
    }
   ],
   "source": [
    "cutoff_stats = []\n",
    "for typ in ['gpt4', 'llama']:\n",
    "    \n",
    "    for version in ['old', 'new']:\n",
    "        if version == 'old':\n",
    "            path = os.path.join(output_dir, f\"kqa_answers_{typ}_five_1.jsonl\")\n",
    "        if version == 'new':\n",
    "            path = os.path.join(output_dir, f\"kqa_answers_{typ}_five.jsonl\")\n",
    "    \n",
    "        with open(path, 'r', encoding='utf-8') as jsonl_file:\n",
    "            data = [json.loads(line) for line in jsonl_file]\n",
    "        \n",
    "        flag = 0\n",
    "        for i in data:\n",
    "            if i['answer'][-1] != '.':\n",
    "                if version == 'new':\n",
    "                    print(typ, version, i['id'])\n",
    "                    print(i['answer'], '\\n')\n",
    "                flag += 1\n",
    "        \n",
    "        d = {'answer_type': typ,\n",
    "            'version': version,\n",
    "            'cutoff responses #': flag\n",
    "            }\n",
    "        cutoff_stats.append(d)\n",
    "    "
   ]
  },
  {
   "cell_type": "code",
   "execution_count": 4,
   "metadata": {},
   "outputs": [
    {
     "data": {
      "text/html": [
       "<div>\n",
       "<style scoped>\n",
       "    .dataframe tbody tr th:only-of-type {\n",
       "        vertical-align: middle;\n",
       "    }\n",
       "\n",
       "    .dataframe tbody tr th {\n",
       "        vertical-align: top;\n",
       "    }\n",
       "\n",
       "    .dataframe thead th {\n",
       "        text-align: right;\n",
       "    }\n",
       "</style>\n",
       "<table border=\"1\" class=\"dataframe\">\n",
       "  <thead>\n",
       "    <tr style=\"text-align: right;\">\n",
       "      <th></th>\n",
       "      <th>answer_type</th>\n",
       "      <th>version</th>\n",
       "      <th>cutoff responses #</th>\n",
       "    </tr>\n",
       "  </thead>\n",
       "  <tbody>\n",
       "    <tr>\n",
       "      <th>0</th>\n",
       "      <td>gpt4</td>\n",
       "      <td>old</td>\n",
       "      <td>4</td>\n",
       "    </tr>\n",
       "    <tr>\n",
       "      <th>1</th>\n",
       "      <td>gpt4</td>\n",
       "      <td>new</td>\n",
       "      <td>1</td>\n",
       "    </tr>\n",
       "    <tr>\n",
       "      <th>2</th>\n",
       "      <td>llama</td>\n",
       "      <td>old</td>\n",
       "      <td>6</td>\n",
       "    </tr>\n",
       "    <tr>\n",
       "      <th>3</th>\n",
       "      <td>llama</td>\n",
       "      <td>new</td>\n",
       "      <td>6</td>\n",
       "    </tr>\n",
       "  </tbody>\n",
       "</table>\n",
       "</div>"
      ],
      "text/plain": [
       "  answer_type version  cutoff responses #\n",
       "0        gpt4     old                   4\n",
       "1        gpt4     new                   1\n",
       "2       llama     old                   6\n",
       "3       llama     new                   6"
      ]
     },
     "execution_count": 4,
     "metadata": {},
     "output_type": "execute_result"
    }
   ],
   "source": [
    "pd.DataFrame(cutoff_stats)"
   ]
  },
  {
   "cell_type": "code",
   "execution_count": 4,
   "metadata": {},
   "outputs": [
    {
     "name": "stdout",
     "output_type": "stream",
     "text": [
      "llama new 146\n",
      "If you are diagnosed with prostatitis, your treatment will depend on the underlying cause. \n",
      "\n",
      "For bacterial prostatitis, you will likely be prescribed antibiotics. The most commonly used antibiotics for bacterial prostatitis are fluoroquinolones, such as ciprofloxacin (Cipro) or levofloxacin (Levaquin), and sulfonamides, such as trimethoprim-sulfamethoxazole (Bactrim or Septra). The duration of treatment can range from 4-12 weeks.\n",
      "\n",
      "If you have chronic bacterial prostatitis, you may need a longer course of antibiotics, often 3-4 months. In some cases, low-dose antibiotics may be prescribed for an extended period to help manage symptoms.\n",
      "\n",
      "For non-bacterial prostatitis, also known as chronic pelvic pain syndrome (CPPS), treatment may focus on managing symptoms. Alpha-blockers, such as alfuzosin (Uroxatral) or tamsulosin (Flomax), may be prescribed to help relax the muscles in the prostate and bladder neck, making it easier to urinate. Pain relievers, such as acetaminophen (Tylenol) or ibuprofen (Advil), may also be recommended to help alleviate discomfort.\n",
      "\n",
      "In some cases, other medications, such as 5-alpha-reductase inhibitors, like finasteride (Propecia), may be prescribed to help shrink the size of the prostate.\n",
      "\n",
      "It's essential \n",
      "\n"
     ]
    }
   ],
   "source": [
    "cutoff_stats = []\n",
    "for typ in ['gpt4', 'llama']:\n",
    "    \n",
    "    for version in ['old', 'new']:\n",
    "        path = os.path.join(output_dir, f\"pilot_{typ}_answers.jsonl\")\n",
    "    \n",
    "        with open(path, 'r', encoding='utf-8') as jsonl_file:\n",
    "            data = [json.loads(line) for line in jsonl_file]\n",
    "        \n",
    "        flag = 0\n",
    "        for i in data:\n",
    "            if i['answer'][-1] != '.':\n",
    "                if version == 'new':\n",
    "                    print(typ, version, i['id'])\n",
    "                    print(i['answer'], '\\n')\n",
    "                flag += 1\n",
    "        \n",
    "        d = {'answer_type': typ,\n",
    "            'version': version,\n",
    "            'cutoff responses #': flag\n",
    "            }\n",
    "        cutoff_stats.append(d)"
   ]
  },
  {
   "cell_type": "code",
   "execution_count": null,
   "metadata": {},
   "outputs": [],
   "source": []
  }
 ],
 "metadata": {
  "kernelspec": {
   "display_name": "nlp",
   "language": "python",
   "name": "python3"
  },
  "language_info": {
   "codemirror_mode": {
    "name": "ipython",
    "version": 3
   },
   "file_extension": ".py",
   "mimetype": "text/x-python",
   "name": "python",
   "nbconvert_exporter": "python",
   "pygments_lexer": "ipython3",
   "version": "3.10.17"
  }
 },
 "nbformat": 4,
 "nbformat_minor": 2
}
