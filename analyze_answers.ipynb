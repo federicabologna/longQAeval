{
 "cells": [
  {
   "cell_type": "code",
   "execution_count": 1,
   "metadata": {},
   "outputs": [
    {
     "name": "stdout",
     "output_type": "stream",
     "text": [
      "Intel MKL WARNING: Support of Intel(R) Streaming SIMD Extensions 4.2 (Intel(R) SSE4.2) enabled only processors has been deprecated. Intel oneAPI Math Kernel Library 2025.0 will require Intel(R) Advanced Vector Extensions (Intel(R) AVX) instructions.\n",
      "Intel MKL WARNING: Support of Intel(R) Streaming SIMD Extensions 4.2 (Intel(R) SSE4.2) enabled only processors has been deprecated. Intel oneAPI Math Kernel Library 2025.0 will require Intel(R) Advanced Vector Extensions (Intel(R) AVX) instructions.\n"
     ]
    }
   ],
   "source": [
    "import os\n",
    "import random\n",
    "import json\n",
    "import pandas as pd\n",
    "import numpy as np\n",
    "import spacy\n",
    "from sklearn.feature_extraction.text import CountVectorizer\n"
   ]
  },
  {
   "cell_type": "code",
   "execution_count": 4,
   "metadata": {},
   "outputs": [],
   "source": [
    "dir = os.getcwd()\n",
    "data_dir = os.path.join(dir, 'data')\n",
    "os.makedirs(data_dir, exist_ok=True)\n",
    "output_dir = os.path.join(dir, 'output')\n",
    "os.makedirs(output_dir, exist_ok=True)"
   ]
  },
  {
   "cell_type": "code",
   "execution_count": 5,
   "metadata": {},
   "outputs": [],
   "source": [
    "with open(os.path.join(output_dir, \"kqa_answers_gpt4_five.jsonl\"), 'r', encoding='utf-8') as jsonl_file:\n",
    "    gpt4 = [json.loads(line) for line in jsonl_file]"
   ]
  },
  {
   "cell_type": "code",
   "execution_count": 6,
   "metadata": {},
   "outputs": [],
   "source": [
    "with open(os.path.join(output_dir, \"kqa_answers_llama_five.jsonl\"), 'r', encoding='utf-8') as jsonl_file:\n",
    "    llama = [json.loads(line) for line in jsonl_file]"
   ]
  },
  {
   "cell_type": "markdown",
   "metadata": {},
   "source": [
    "# Number of words of GPT-4 and Llama answers"
   ]
  },
  {
   "cell_type": "code",
   "execution_count": 5,
   "metadata": {},
   "outputs": [
    {
     "data": {
      "text/plain": [
       "(221, 116.06, 49)"
      ]
     },
     "execution_count": 5,
     "metadata": {},
     "output_type": "execute_result"
    }
   ],
   "source": [
    "vectorizer = CountVectorizer()\n",
    "corpus = [item['answer'] for item in gpt4]  # Assuming 'question' field contains the text\n",
    "X = vectorizer.fit_transform(corpus)\n",
    "token_counts = X.sum(axis=1)\n",
    "\n",
    "np.max(token_counts), np.mean(token_counts), np.min(token_counts)"
   ]
  },
  {
   "cell_type": "code",
   "execution_count": 6,
   "metadata": {},
   "outputs": [
    {
     "data": {
      "text/plain": [
       "(232, 136.62, 4)"
      ]
     },
     "execution_count": 6,
     "metadata": {},
     "output_type": "execute_result"
    }
   ],
   "source": [
    "vectorizer = CountVectorizer()\n",
    "corpus = [item['answer'] for item in llama]  # Assuming 'question' field contains the text\n",
    "X = vectorizer.fit_transform(corpus)\n",
    "token_counts = X.sum(axis=1)\n",
    "\n",
    "np.max(token_counts), np.mean(token_counts), np.min(token_counts)"
   ]
  },
  {
   "cell_type": "code",
   "execution_count": 9,
   "metadata": {},
   "outputs": [
    {
     "name": "stdout",
     "output_type": "stream",
     "text": [
      "The duration of muscle strain pain can vary depending on the severity of the injury and individual factors. Generally, mild muscle strains can resolve on their own within 7-10 days. Moderate strains may take 2-3 weeks to heal, while severe strains can take up to 6 weeks or more to fully recover. It's essential to rest the affected area, apply ice, and stretch gently to promote healing. Over-the-counter pain relievers such as acetaminophen (Tylenol) or ibuprofen (Advil) can help manage pain and inflammation. If your symptoms worsen or persist, it's best to consult with a healthcare professional for further evaluation and guidance.\n",
      "__________________________\n",
      "Muscle aches, also known as myalgias, can be caused by a variety of factors beyond just exercise. If you are experiencing persistent muscle aches without exercising, it is reasonable to investigate the cause. Possible explanations include underlying medical conditions such as hypothyroidism, anemia, vitamin deficiencies (e.g., vitamin D), or chronic fatigue syndrome. Additionally, certain medications, infections (e.g., flu, Lyme disease), or autoimmune disorders (e.g., rheumatoid arthritis) could also contribute to muscle aches.\n",
      "\n",
      "It is recommended to consult with a healthcare professional for an evaluation to determine the underlying cause of your muscle aches. They will likely ask about your medical history, perform a physical examination, and may order diagnostic tests (e.g., blood work) to help identify the cause. Based on the diagnosis, appropriate treatment or management strategies can be implemented to alleviate your symptoms.\n",
      "__________________________\n",
      "Mounjaro (tirzepatide) is a medication that has received FDA approval for the treatment of type 2 diabetes. Specifically, it is approved as an adjunct to diet and exercise to improve glycemic control in adults with type 2 diabetes. Mounjaro is a dual GIP/GLP-1 receptor agonist, which means it works by mimicking the action of two natural hormones in the body to help regulate blood sugar levels. It is administered via injection once weekly.\n",
      "__________________________\n",
      "Yes, it is possible to be diagnosed with shingles more than once. Shingles, also known as herpes zoster, is a viral infection caused by the reactivation of the varicella-zoster virus, which is the same virus that causes chickenpox. After a person recovers from chickenpox, the virus can remain dormant in the nerve cells and reactivate later in life, causing shingles.\n",
      "\n",
      "While it is more common for people to experience a single episode of shingles, some individuals may experience recurrent episodes, a condition known as herpes zoster recurrence. According to the Centers for Disease Control and Prevention (CDC), about 1 in 3 people who have had shingles will experience a recurrence.\n",
      "\n",
      "The risk of recurrence increases with age, and people with weakened immune systems, such as those with cancer, HIV/AIDS, or taking immunosuppressive medications, are more susceptible to recurrent episodes.\n",
      "\n",
      "If you have had shingles before and are experiencing symptoms again, it is essential to consult with your healthcare provider for proper diagnosis and treatment.\n",
      "__________________________\n",
      "As a young healthy adult traveling to Brazil, the Centers for Disease Control and Prevention (CDC) and the World Health Organization (WHO) recommend that you be up-to-date on all routine vaccinations, including MMR, DTaP, and polio. \n",
      "\n",
      "Additionally, the CDC recommends that travelers to Brazil be vaccinated against hepatitis A and typhoid fever. Hepatitis A is prevalent in Brazil and can be spread through contaminated food and water. Typhoid fever is also a risk, especially for travelers who will be eating or drinking outside of major restaurants and hotels.\n",
      "\n",
      "Yellow fever vaccination is also recommended for travelers who will be visiting areas in Brazil that are at risk for yellow fever transmission, such as the Amazon rainforest or rural areas. However, this is not necessary if you will only be visiting major cities like Rio de Janeiro or São Paulo.\n",
      "\n",
      "It's also important to note that Brazil requires that all travelers be vaccinated against yellow fever if they are coming from or have recently visited countries in Africa or other parts of South America where yellow fever is prevalent.\n",
      "\n",
      "It's always a good idea to consult with a healthcare professional at least 4-6 weeks before your trip to determine the specific vaccinations and medications you may need based on your individual travel plans and health status.\n",
      "__________________________\n"
     ]
    }
   ],
   "source": [
    "for i in random.sample(corpus, 5):\n",
    "    print(i)\n",
    "    print(\"__________________________\")"
   ]
  },
  {
   "cell_type": "markdown",
   "metadata": {},
   "source": [
    "# Number of words and sentences in GPT-4 and Llama answers"
   ]
  },
  {
   "cell_type": "code",
   "execution_count": 14,
   "metadata": {},
   "outputs": [],
   "source": [
    "def count_sentences(list_texts, physician=False):\n",
    "    \n",
    "    # Load the spaCy English model\n",
    "    nlp = spacy.load(\"en_core_web_sm\")\n",
    "    # Process the text with spaCy to segment into sentences\n",
    "    n_sentences = []\n",
    "    for d in list_texts:\n",
    "        if physician:\n",
    "            doc = nlp(d['Free_form_answer'])\n",
    "        else:\n",
    "            doc = nlp(d['answer'])\n",
    "        n_sentences.append(len([sentence.text for sentence in doc.sents]))\n",
    "    \n",
    "    return n_sentences"
   ]
  },
  {
   "cell_type": "code",
   "execution_count": 10,
   "metadata": {},
   "outputs": [],
   "source": [
    "gpt4_sentences = count_sentences(gpt4)\n",
    "llama_sentences = count_sentences(llama)"
   ]
  },
  {
   "cell_type": "code",
   "execution_count": 11,
   "metadata": {},
   "outputs": [
    {
     "data": {
      "text/plain": [
       "(17, 6.06, 2)"
      ]
     },
     "execution_count": 11,
     "metadata": {},
     "output_type": "execute_result"
    }
   ],
   "source": [
    "np.max(gpt4_sentences), np.mean(gpt4_sentences), np.min(gpt4_sentences)"
   ]
  },
  {
   "cell_type": "code",
   "execution_count": 12,
   "metadata": {},
   "outputs": [
    {
     "data": {
      "text/plain": [
       "(20, 7.13, 1)"
      ]
     },
     "execution_count": 12,
     "metadata": {},
     "output_type": "execute_result"
    }
   ],
   "source": [
    "np.max(llama_sentences), np.mean(llama_sentences), np.min(llama_sentences)"
   ]
  },
  {
   "cell_type": "code",
   "execution_count": null,
   "metadata": {},
   "outputs": [],
   "source": [
    "physician_sentences = count_sentences(gpt4, True)"
   ]
  },
  {
   "cell_type": "code",
   "execution_count": 16,
   "metadata": {},
   "outputs": [
    {
     "data": {
      "text/plain": [
       "(15, 4.62, 1)"
      ]
     },
     "execution_count": 16,
     "metadata": {},
     "output_type": "execute_result"
    }
   ],
   "source": [
    "np.max(physician_sentences), np.mean(physician_sentences), np.min(physician_sentences)"
   ]
  },
  {
   "cell_type": "code",
   "execution_count": null,
   "metadata": {},
   "outputs": [],
   "source": []
  }
 ],
 "metadata": {
  "kernelspec": {
   "display_name": "nlp",
   "language": "python",
   "name": "python3"
  },
  "language_info": {
   "codemirror_mode": {
    "name": "ipython",
    "version": 3
   },
   "file_extension": ".py",
   "mimetype": "text/x-python",
   "name": "python",
   "nbconvert_exporter": "python",
   "pygments_lexer": "ipython3",
   "version": "3.10.14"
  }
 },
 "nbformat": 4,
 "nbformat_minor": 2
}
