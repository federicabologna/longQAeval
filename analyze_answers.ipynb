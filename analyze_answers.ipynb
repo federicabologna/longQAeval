{
 "cells": [
  {
   "cell_type": "code",
   "execution_count": 1,
   "metadata": {},
   "outputs": [
    {
     "name": "stdout",
     "output_type": "stream",
     "text": [
      "Intel MKL WARNING: Support of Intel(R) Streaming SIMD Extensions 4.2 (Intel(R) SSE4.2) enabled only processors has been deprecated. Intel oneAPI Math Kernel Library 2025.0 will require Intel(R) Advanced Vector Extensions (Intel(R) AVX) instructions.\n",
      "Intel MKL WARNING: Support of Intel(R) Streaming SIMD Extensions 4.2 (Intel(R) SSE4.2) enabled only processors has been deprecated. Intel oneAPI Math Kernel Library 2025.0 will require Intel(R) Advanced Vector Extensions (Intel(R) AVX) instructions.\n"
     ]
    }
   ],
   "source": [
    "import os\n",
    "import random\n",
    "import json\n",
    "import pandas as pd\n",
    "import numpy as np\n",
    "import spacy\n",
    "from sklearn.feature_extraction.text import CountVectorizer\n"
   ]
  },
  {
   "cell_type": "code",
   "execution_count": 2,
   "metadata": {},
   "outputs": [],
   "source": [
    "dir = os.getcwd()\n",
    "data_dir = os.path.join(dir, 'data')\n",
    "os.makedirs(data_dir, exist_ok=True)\n",
    "output_dir = os.path.join(dir, 'output')\n",
    "os.makedirs(output_dir, exist_ok=True)"
   ]
  },
  {
   "cell_type": "code",
   "execution_count": 11,
   "metadata": {},
   "outputs": [],
   "source": [
    "with open(os.path.join(output_dir, \"kqa_answers_gpt4_five.jsonl\"), 'r', encoding='utf-8') as jsonl_file:\n",
    "    gpt4 = [json.loads(line) for line in jsonl_file]"
   ]
  },
  {
   "cell_type": "code",
   "execution_count": 13,
   "metadata": {},
   "outputs": [],
   "source": [
    "with open(os.path.join(output_dir, \"kqa_answers_gpt4_five_1.jsonl\"), 'r', encoding='utf-8') as jsonl_file:\n",
    "    gpt4_old = [json.loads(line) for line in jsonl_file]"
   ]
  },
  {
   "cell_type": "code",
   "execution_count": 4,
   "metadata": {},
   "outputs": [],
   "source": [
    "with open(os.path.join(output_dir, \"kqa_answers_llama_five.jsonl\"), 'r', encoding='utf-8') as jsonl_file:\n",
    "    llama = [json.loads(line) for line in jsonl_file]"
   ]
  },
  {
   "cell_type": "code",
   "execution_count": 5,
   "metadata": {},
   "outputs": [],
   "source": [
    "with open(os.path.join(output_dir, \"kqa_answers_llama_five_1.jsonl\"), 'r', encoding='utf-8') as jsonl_file:\n",
    "    llama_old = [json.loads(line) for line in jsonl_file]"
   ]
  },
  {
   "cell_type": "code",
   "execution_count": null,
   "metadata": {},
   "outputs": [],
   "source": [
    "for i in random.sample(llama, 5):\n",
    "    print(i)\n",
    "    print(\"__________________________\")"
   ]
  },
  {
   "cell_type": "markdown",
   "metadata": {},
   "source": [
    "# Number of words of GPT-4 and Llama answers"
   ]
  },
  {
   "cell_type": "code",
   "execution_count": null,
   "metadata": {},
   "outputs": [],
   "source": [
    "stats = []\n",
    "\n",
    "for typ in ['gpt4', 'llama', 'physician']:\n",
    "\n",
    "    key = typ\n",
    "    if typ == 'physician':\n",
    "        key = 'gpt4'\n",
    "    with open(os.path.join(output_dir, f\"kqa_answers_{key}_five.jsonl\"), 'r', encoding='utf-8') as jsonl_file:\n",
    "        data = [json.loads(line) for line in jsonl_file]\n",
    "    \n",
    "    # Load the spaCy English model\n",
    "    nlp = spacy.load(\"en_core_web_sm\")\n",
    "    # Process the text with spaCy to segment into sentences\n",
    "    n_words = []\n",
    "    for d in data:\n",
    "        if typ == 'physician':\n",
    "            doc = nlp(d['Free_form_answer'])\n",
    "        else:\n",
    "            doc = nlp(d['answer'])\n",
    "        n_words.append(len([token for token in doc]))\n",
    "        if len([token for token in doc]) < 10:\n",
    "            print(d)\n",
    "    \n",
    "    stats.append({'Type': typ,\n",
    "                  'Mean # Tokens': np.mean(n_words),\n",
    "                  'Q1 # Tokens': np.percentile(n_words, 25),\n",
    "                  'Q2 # Tokens': np.percentile(n_words, 75),\n",
    "                  'Max # Tokens': np.max(n_words),\n",
    "                  'Min # Tokens': np.min(n_words),})\n",
    "\n",
    "pd.DataFrame(stats)"
   ]
  },
  {
   "cell_type": "markdown",
   "metadata": {},
   "source": [
    "# Number of words and sentences in GPT-4 and Llama answers"
   ]
  },
  {
   "cell_type": "code",
   "execution_count": null,
   "metadata": {},
   "outputs": [],
   "source": [
    "stats = []\n",
    "\n",
    "for typ in ['gpt4', 'llama', 'physician']:\n",
    "\n",
    "    key = typ\n",
    "    if typ == 'physician':\n",
    "        key = 'gpt4'\n",
    "    with open(os.path.join(output_dir, f\"kqa_answers_{key}_five.jsonl\"), 'r', encoding='utf-8') as jsonl_file:\n",
    "        data = [json.loads(line) for line in jsonl_file]\n",
    "    \n",
    "    # Load the spaCy English model\n",
    "    nlp = spacy.load(\"en_core_web_sm\")\n",
    "    # Process the text with spaCy to segment into sentences\n",
    "    n_sentences = []\n",
    "    for d in data:\n",
    "        if typ == 'physician':\n",
    "            doc = nlp(d['Free_form_answer'])\n",
    "        else:\n",
    "            doc = nlp(d['answer'])\n",
    "        n_sentences.append(len([sentence.text for sentence in doc.sents]))\n",
    "    \n",
    "    stats.append({'Type': typ,\n",
    "                  'Mean # Sentences': np.mean(n_sentences),\n",
    "                  'Q1 # Sentences': np.percentile(n_sentences, 25),\n",
    "                  'Q2 # Sentences': np.percentile(n_sentences, 75),\n",
    "                  'Max # Sentences': np.max(n_sentences),\n",
    "                  'Min # Sentences': np.min(n_sentences),})\n",
    "\n",
    "pd.DataFrame(stats)"
   ]
  },
  {
   "cell_type": "markdown",
   "metadata": {},
   "source": [
    "# Number of cutoff responses"
   ]
  },
  {
   "cell_type": "code",
   "execution_count": 7,
   "metadata": {},
   "outputs": [
    {
     "name": "stdout",
     "output_type": "stream",
     "text": [
      "gpt4 new 59\n",
      "To measure blood pressure, you will need a blood pressure cuff (sphygmomanometer) and a stethoscope. Here are the steps to correctly measure blood pressure:\n",
      "\n",
      "1. **Prepare the Patient**: The patient should relax, sitting comfortably with their back supported, legs uncrossed, and not having smoked, exercised, or consumed caffeine within 30 minutes prior to measurement.\n",
      "\n",
      "2. **Position the Arm**: Arm should be supported on a flat surface at heart level. The upper arm should be bare, with clothing removed or sleeves raised.\n",
      "\n",
      "3. **Place the Cuff**: Wrap the cuff around the upper arm, making sure it’s snug but not too tight. The lower edge of the cuff should be about an inch above the bend of the elbow.\n",
      "\n",
      "4. **Position the Stethoscope**: Place the stethoscope’s earpieces in your ears and the diaphragm on the inside of the elbow crease directly over the brachial artery.\n",
      "\n",
      "5. **Inflate the Cuff**: Inflate the cuff by pumping the bulb until the gauge reads about 20-30 mmHg above usual systolic pressure (if unknown, inflate to 180 mmHg). The cuff should compress the arm enough so no pulse is felt at the wrist.\n",
      "\n",
      "6. **Measure the Pressure**: Slowly deflate the cuff by opening the valve and listen through the stethoscope. The first knocking sound (systolic pressure) is noted. Continue to let air out slowly; \n",
      "\n",
      "llama new 118\n",
      "Yes, there are several anti-nausea medications available that can help alleviate nausea and vomiting, allowing fluids to stay down. These medications are often prescribed for conditions such as gastroenteritis, motion sickness, and chemotherapy-induced nausea. Some common anti-nausea medications include:\n",
      "\n",
      "1. Ondansetron (Zofran): This medication is often prescribed for nausea and vomiting caused by chemotherapy, radiation therapy, and surgery.\n",
      "2. Metoclopramide (Reglan): This medication is often used to treat nausea and vomiting caused by gastroenteritis, migraines, and other conditions.\n",
      "3. Dimenhydrinate (Dramamine): This medication is often used to treat motion sickness and can also be used to alleviate nausea and vomiting caused by other conditions.\n",
      "4. Prochlorperazine (Compazine): This medication is often used to treat nausea and vomiting caused by gastroenteritis, migraines, and other conditions.\n",
      "\n",
      "It's essential to consult with a healthcare professional before taking any anti-nausea medication, as they can recommend the best medication and dosage for your specific condition. Additionally, it's crucial to follow the recommended dosage and administration instructions carefully to ensure the medication is effective and safe.\n",
      "\n",
      "In addition to medication, there are also some non-pharmacological measures that can help alleviate nausea and vomiting, such as:\n",
      "\n",
      "* Drinking small, frequent sips of fluids\n",
      "* Avoiding spicy or fatty foods\n",
      "* Eating bland, easily digestible foods\n",
      "* Applying a cold compress \n",
      "\n",
      "llama new 170\n",
      "Sciatica is a type of pain that radiates along the sciatic nerve, which runs from the lower back down to the legs. The sciatic nerve is the longest nerve in the body and is formed by the combination of five nerve roots that emerge from the spinal cord in the lower back.\n",
      "\n",
      "Sciatica occurs when the sciatic nerve is irritated or compressed, often due to a herniated disk, bone spur, or other condition that puts pressure on the nerve. This can cause pain, numbness, tingling, and weakness in the lower back, buttocks, and legs.\n",
      "\n",
      "The symptoms of sciatica can vary depending on the location and severity of the nerve compression. Common symptoms include:\n",
      "\n",
      "* Pain that radiates from the lower back down to the buttocks and legs\n",
      "* Numbness or tingling in the legs or feet\n",
      "* Weakness in the legs or feet\n",
      "* Difficulty controlling the bowels or bladder\n",
      "* Pain that worsens with sitting, standing, or bending\n",
      "\n",
      "Sciatica can be caused by a variety of factors, including:\n",
      "\n",
      "* Herniated disk\n",
      "* Degenerative disk disease\n",
      "* Spondylolisthesis (a condition in which a vertebra slips out of place)\n",
      "* Piriformis syndrome (a condition in which the piriformis muscle compresses the sciatic nerve)\n",
      "* Spinal stenosis (a narrowing of the spinal canal) \n",
      "\n"
     ]
    }
   ],
   "source": [
    "cutoff_stats = []\n",
    "for typ in ['gpt4', 'llama']:\n",
    "    \n",
    "    for version in ['old', 'new']:\n",
    "        if version == 'old':\n",
    "            path = os.path.join(output_dir, f\"kqa_answers_{typ}_five_1.jsonl\")\n",
    "        if version == 'new':\n",
    "            path = os.path.join(output_dir, f\"kqa_answers_{typ}_five.jsonl\")\n",
    "    \n",
    "        with open(path, 'r', encoding='utf-8') as jsonl_file:\n",
    "            data = [json.loads(line) for line in jsonl_file]\n",
    "        \n",
    "        flag = 0\n",
    "        for i in data:\n",
    "            if i['answer'][-1] != '.':\n",
    "                if version == 'new':\n",
    "                    print(typ, version, i['id'])\n",
    "                    print(i['answer'], '\\n')\n",
    "                flag += 1\n",
    "        \n",
    "        d = {'answer_type': typ,\n",
    "            'version': version,\n",
    "            'cutoff responses #': flag\n",
    "            }\n",
    "        cutoff_stats.append(d)\n",
    "    "
   ]
  },
  {
   "cell_type": "code",
   "execution_count": 4,
   "metadata": {},
   "outputs": [
    {
     "data": {
      "text/html": [
       "<div>\n",
       "<style scoped>\n",
       "    .dataframe tbody tr th:only-of-type {\n",
       "        vertical-align: middle;\n",
       "    }\n",
       "\n",
       "    .dataframe tbody tr th {\n",
       "        vertical-align: top;\n",
       "    }\n",
       "\n",
       "    .dataframe thead th {\n",
       "        text-align: right;\n",
       "    }\n",
       "</style>\n",
       "<table border=\"1\" class=\"dataframe\">\n",
       "  <thead>\n",
       "    <tr style=\"text-align: right;\">\n",
       "      <th></th>\n",
       "      <th>answer_type</th>\n",
       "      <th>version</th>\n",
       "      <th>cutoff responses #</th>\n",
       "    </tr>\n",
       "  </thead>\n",
       "  <tbody>\n",
       "    <tr>\n",
       "      <th>0</th>\n",
       "      <td>gpt4</td>\n",
       "      <td>old</td>\n",
       "      <td>4</td>\n",
       "    </tr>\n",
       "    <tr>\n",
       "      <th>1</th>\n",
       "      <td>gpt4</td>\n",
       "      <td>new</td>\n",
       "      <td>1</td>\n",
       "    </tr>\n",
       "    <tr>\n",
       "      <th>2</th>\n",
       "      <td>llama</td>\n",
       "      <td>old</td>\n",
       "      <td>6</td>\n",
       "    </tr>\n",
       "    <tr>\n",
       "      <th>3</th>\n",
       "      <td>llama</td>\n",
       "      <td>new</td>\n",
       "      <td>6</td>\n",
       "    </tr>\n",
       "  </tbody>\n",
       "</table>\n",
       "</div>"
      ],
      "text/plain": [
       "  answer_type version  cutoff responses #\n",
       "0        gpt4     old                   4\n",
       "1        gpt4     new                   1\n",
       "2       llama     old                   6\n",
       "3       llama     new                   6"
      ]
     },
     "execution_count": 4,
     "metadata": {},
     "output_type": "execute_result"
    }
   ],
   "source": [
    "pd.DataFrame(cutoff_stats)"
   ]
  },
  {
   "cell_type": "code",
   "execution_count": null,
   "metadata": {},
   "outputs": [],
   "source": []
  }
 ],
 "metadata": {
  "kernelspec": {
   "display_name": "nlp",
   "language": "python",
   "name": "python3"
  },
  "language_info": {
   "codemirror_mode": {
    "name": "ipython",
    "version": 3
   },
   "file_extension": ".py",
   "mimetype": "text/x-python",
   "name": "python",
   "nbconvert_exporter": "python",
   "pygments_lexer": "ipython3",
   "version": "3.10.14"
  }
 },
 "nbformat": 4,
 "nbformat_minor": 2
}
