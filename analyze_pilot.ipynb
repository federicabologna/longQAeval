{
 "cells": [
  {
   "cell_type": "code",
   "execution_count": 1,
   "metadata": {},
   "outputs": [
    {
     "name": "stdout",
     "output_type": "stream",
     "text": [
      "Intel MKL WARNING: Support of Intel(R) Streaming SIMD Extensions 4.2 (Intel(R) SSE4.2) enabled only processors has been deprecated. Intel oneAPI Math Kernel Library 2025.0 will require Intel(R) Advanced Vector Extensions (Intel(R) AVX) instructions.\n",
      "Intel MKL WARNING: Support of Intel(R) Streaming SIMD Extensions 4.2 (Intel(R) SSE4.2) enabled only processors has been deprecated. Intel oneAPI Math Kernel Library 2025.0 will require Intel(R) Advanced Vector Extensions (Intel(R) AVX) instructions.\n"
     ]
    }
   ],
   "source": [
    "# Imports\n",
    "import time\n",
    "import os\n",
    "import json\n",
    "from itertools import combinations\n",
    "import numpy as np\n",
    "import pandas as pd\n",
    "from scipy import stats\n",
    "from statsmodels.stats import inter_rater as irr\n",
    "from sklearn.metrics import cohen_kappa_score\n",
    "import krippendorff as kd\n",
    "import matplotlib.pyplot as plt\n",
    "import seaborn as sns\n",
    "\n",
    "# File locations\n",
    "dir = os.getcwd()\n",
    "output_dir = os.path.join(dir, 'output')\n",
    "fig_dir = os.path.join(dir, 'figures')"
   ]
  },
  {
   "cell_type": "code",
   "execution_count": null,
   "metadata": {},
   "outputs": [],
   "source": [
    "results = []\n",
    "for n in range(1,7):\n",
    "    with open(os.path.join(output_dir, 'coarse', 'pilot1', f\"annotator{n}.jsonl\"), 'r', encoding='utf-8') as jsonl_file:\n",
    "        for line in jsonl_file:\n",
    "            d = json.loads(line)\n",
    "            d['annotator'] = f\"annotator{n}\"\n",
    "            results.append(d)\n",
    "        "
   ]
  },
  {
   "cell_type": "code",
   "execution_count": 3,
   "metadata": {},
   "outputs": [
    {
     "data": {
      "text/html": [
       "<div>\n",
       "<style scoped>\n",
       "    .dataframe tbody tr th:only-of-type {\n",
       "        vertical-align: middle;\n",
       "    }\n",
       "\n",
       "    .dataframe tbody tr th {\n",
       "        vertical-align: top;\n",
       "    }\n",
       "\n",
       "    .dataframe thead th {\n",
       "        text-align: right;\n",
       "    }\n",
       "</style>\n",
       "<table border=\"1\" class=\"dataframe\">\n",
       "  <thead>\n",
       "    <tr style=\"text-align: right;\">\n",
       "      <th></th>\n",
       "      <th>_id</th>\n",
       "      <th>question_id</th>\n",
       "      <th>question</th>\n",
       "      <th>answer_id</th>\n",
       "      <th>answer_type</th>\n",
       "      <th>annotation_type</th>\n",
       "      <th>rated</th>\n",
       "      <th>answer</th>\n",
       "      <th>batch_id</th>\n",
       "      <th>confidence</th>\n",
       "      <th>correctness</th>\n",
       "      <th>relevance</th>\n",
       "      <th>safety</th>\n",
       "      <th>time</th>\n",
       "      <th>annotator</th>\n",
       "    </tr>\n",
       "  </thead>\n",
       "  <tbody>\n",
       "    <tr>\n",
       "      <th>0</th>\n",
       "      <td>67ce11004b0825eeb3c78ead</td>\n",
       "      <td>question_34</td>\n",
       "      <td>Could esophagitis could like muscle stiffness ...</td>\n",
       "      <td>gpt4_1</td>\n",
       "      <td>gpt4</td>\n",
       "      <td>coarse</td>\n",
       "      <td>Yes</td>\n",
       "      <td>Esophagitis, which is inflammation of the esop...</td>\n",
       "      <td>batch_0</td>\n",
       "      <td>Very confident</td>\n",
       "      <td>Partially Agree</td>\n",
       "      <td>Partially Agree</td>\n",
       "      <td>Partially Disagree</td>\n",
       "      <td>57.303854</td>\n",
       "      <td>annotator1</td>\n",
       "    </tr>\n",
       "  </tbody>\n",
       "</table>\n",
       "</div>"
      ],
      "text/plain": [
       "                        _id  question_id  \\\n",
       "0  67ce11004b0825eeb3c78ead  question_34   \n",
       "\n",
       "                                            question answer_id answer_type  \\\n",
       "0  Could esophagitis could like muscle stiffness ...    gpt4_1        gpt4   \n",
       "\n",
       "  annotation_type rated                                             answer  \\\n",
       "0          coarse   Yes  Esophagitis, which is inflammation of the esop...   \n",
       "\n",
       "  batch_id      confidence      correctness        relevance  \\\n",
       "0  batch_0  Very confident  Partially Agree  Partially Agree   \n",
       "\n",
       "               safety       time   annotator  \n",
       "0  Partially Disagree  57.303854  annotator1  "
      ]
     },
     "execution_count": 3,
     "metadata": {},
     "output_type": "execute_result"
    }
   ],
   "source": [
    "results_df = pd.DataFrame(results)\n",
    "results_df[:1]"
   ]
  },
  {
   "cell_type": "code",
   "execution_count": 4,
   "metadata": {},
   "outputs": [],
   "source": [
    "results_df5 = results_df.copy()\n",
    "results_df3 = results_df.copy()"
   ]
  },
  {
   "cell_type": "code",
   "execution_count": 5,
   "metadata": {},
   "outputs": [],
   "source": [
    "ratings5 = {\"Disagree\": 1,\n",
    "            \"Partially Disagree\": 2,\n",
    "            \"Neutral\": 3,\n",
    "            \"Partially Agree\": 4,\n",
    "            \"Agree\": 5}\n",
    "ratings3 = {\"Disagree\": -1,\n",
    "            \"Partially Disagree\": -1,\n",
    "            \"Neutral\": 0,\n",
    "            \"Partially Agree\": 1,\n",
    "            \"Agree\": 1}\n",
    "for label in ['correctness', 'relevance', 'safety']:\n",
    "    results_df5[label].replace(ratings5, inplace=True)\n",
    "    results_df3[label].replace(ratings3, inplace=True)"
   ]
  },
  {
   "cell_type": "markdown",
   "metadata": {},
   "source": [
    "## Agreement with 5-point Likert Scales"
   ]
  },
  {
   "cell_type": "code",
   "execution_count": 6,
   "metadata": {},
   "outputs": [],
   "source": [
    "annotations5 = {}\n",
    "for label in ['correctness', 'relevance', 'safety']:\n",
    "    annotations5[label] = {}\n",
    "    for annotator in results_df5.annotator.unique():\n",
    "        ddf = results_df5[results_df5['annotator'] == annotator].sort_values(['question_id', 'answer_id']).copy()\n",
    "        ann = ddf[label].values.tolist()\n",
    "        annotations5[label][annotator] = ann"
   ]
  },
  {
   "cell_type": "code",
   "execution_count": 7,
   "metadata": {},
   "outputs": [
    {
     "name": "stdout",
     "output_type": "stream",
     "text": [
      "CORRECTNESS\n",
      "Krippendorff's alpha 0.11\n",
      "Fleiss' Kappa 0.08\n",
      "Randolph' Kappa 0.42\n",
      "RELEVANCE\n",
      "Krippendorff's alpha 0.18\n",
      "Fleiss' Kappa 0.06\n",
      "Randolph' Kappa 0.14\n",
      "SAFETY\n",
      "Krippendorff's alpha 0.35\n",
      "Fleiss' Kappa 0.09\n",
      "Randolph' Kappa 0.12\n"
     ]
    }
   ],
   "source": [
    "for label in ['correctness', 'relevance', 'safety']:\n",
    "    print(label.upper())\n",
    "    data = pd.DataFrame(annotations5[label])\n",
    "    a = kd.alpha(data.T.values, level_of_measurement='ordinal')\n",
    "    print(\"Krippendorff's alpha\", round(a, 2))\n",
    "    fk = irr.fleiss_kappa(irr.aggregate_raters(data)[0], method='fleiss')\n",
    "    print(\"Fleiss' Kappa\", round(fk, 2))\n",
    "    k = irr.fleiss_kappa(irr.aggregate_raters(data)[0], method='randolph')\n",
    "    print(\"Randolph' Kappa\", round(k, 2))"
   ]
  },
  {
   "cell_type": "code",
   "execution_count": 20,
   "metadata": {},
   "outputs": [
    {
     "data": {
      "text/html": [
       "<div>\n",
       "<style scoped>\n",
       "    .dataframe tbody tr th:only-of-type {\n",
       "        vertical-align: middle;\n",
       "    }\n",
       "\n",
       "    .dataframe tbody tr th {\n",
       "        vertical-align: top;\n",
       "    }\n",
       "\n",
       "    .dataframe thead th {\n",
       "        text-align: right;\n",
       "    }\n",
       "</style>\n",
       "<table border=\"1\" class=\"dataframe\">\n",
       "  <thead>\n",
       "    <tr style=\"text-align: right;\">\n",
       "      <th></th>\n",
       "      <th>answer_id</th>\n",
       "      <th>relevance</th>\n",
       "      <th>answer</th>\n",
       "    </tr>\n",
       "  </thead>\n",
       "  <tbody>\n",
       "    <tr>\n",
       "      <th>37</th>\n",
       "      <td>gpt4_2</td>\n",
       "      <td>3</td>\n",
       "      <td>No, the stomach flu and the flu are not the sa...</td>\n",
       "    </tr>\n",
       "    <tr>\n",
       "      <th>43</th>\n",
       "      <td>llama_2</td>\n",
       "      <td>5</td>\n",
       "      <td>No, the stomach flu and the flu are not the sa...</td>\n",
       "    </tr>\n",
       "    <tr>\n",
       "      <th>44</th>\n",
       "      <td>physician_2</td>\n",
       "      <td>3</td>\n",
       "      <td>No. Flu refers to influenza, a respiratory ill...</td>\n",
       "    </tr>\n",
       "    <tr>\n",
       "      <th>39</th>\n",
       "      <td>gpt4_1</td>\n",
       "      <td>5</td>\n",
       "      <td>Esophagitis, which is inflammation of the esop...</td>\n",
       "    </tr>\n",
       "    <tr>\n",
       "      <th>42</th>\n",
       "      <td>llama_1</td>\n",
       "      <td>5</td>\n",
       "      <td>Esophagitis is an inflammation of the esophagu...</td>\n",
       "    </tr>\n",
       "    <tr>\n",
       "      <th>38</th>\n",
       "      <td>physician_1</td>\n",
       "      <td>4</td>\n",
       "      <td>Esophagitis is inflammation of the esophagus c...</td>\n",
       "    </tr>\n",
       "    <tr>\n",
       "      <th>40</th>\n",
       "      <td>gpt4_0</td>\n",
       "      <td>3</td>\n",
       "      <td>Creatinine is a waste product produced by musc...</td>\n",
       "    </tr>\n",
       "    <tr>\n",
       "      <th>41</th>\n",
       "      <td>llama_0</td>\n",
       "      <td>5</td>\n",
       "      <td>Creatinine is a waste product that comes from ...</td>\n",
       "    </tr>\n",
       "    <tr>\n",
       "      <th>36</th>\n",
       "      <td>physician_0</td>\n",
       "      <td>5</td>\n",
       "      <td>The body produces creatinine as a byproduct of...</td>\n",
       "    </tr>\n",
       "  </tbody>\n",
       "</table>\n",
       "</div>"
      ],
      "text/plain": [
       "      answer_id  relevance                                             answer\n",
       "37       gpt4_2          3  No, the stomach flu and the flu are not the sa...\n",
       "43      llama_2          5  No, the stomach flu and the flu are not the sa...\n",
       "44  physician_2          3  No. Flu refers to influenza, a respiratory ill...\n",
       "39       gpt4_1          5  Esophagitis, which is inflammation of the esop...\n",
       "42      llama_1          5  Esophagitis is an inflammation of the esophagu...\n",
       "38  physician_1          4  Esophagitis is inflammation of the esophagus c...\n",
       "40       gpt4_0          3  Creatinine is a waste product produced by musc...\n",
       "41      llama_0          5  Creatinine is a waste product that comes from ...\n",
       "36  physician_0          5  The body produces creatinine as a byproduct of..."
      ]
     },
     "execution_count": 20,
     "metadata": {},
     "output_type": "execute_result"
    }
   ],
   "source": [
    "results_df5[results_df5['annotator'] == 'annotator5'].sort_values(['question_id', 'answer_id']).copy()[['answer_id','relevance','answer']]"
   ]
  },
  {
   "cell_type": "code",
   "execution_count": 8,
   "metadata": {},
   "outputs": [
    {
     "name": "stdout",
     "output_type": "stream",
     "text": [
      "CORRECTNESS\n",
      "   annotator1  annotator2  annotator3  annotator4  annotator5  annotator6\n",
      "0           3           5           4           5           5           5\n",
      "1           5           5           5           5           5           5\n",
      "2           4           4           4           5           5           4\n",
      "3           4           5           4           5           4           5\n",
      "4           5           5           5           5           5           4\n",
      "5           5           5           4           5           5           5\n",
      "6           4           5           4           5           3           5\n",
      "7           5           5           5           4           5           5\n",
      "8           5           5           5           5           5           5\n",
      "RELEVANCE\n",
      "   annotator1  annotator2  annotator3  annotator4  annotator5  annotator6\n",
      "0           4           5           4           5           3           5\n",
      "1           4           5           5           5           5           5\n",
      "2           5           3           3           3           3           5\n",
      "3           4           5           4           4           5           5\n",
      "4           5           3           5           4           5           4\n",
      "5           4           3           4           3           4           3\n",
      "6           4           5           5           4           3           5\n",
      "7           5           5           5           4           5           5\n",
      "8           5           5           5           4           5           4\n",
      "SAFETY\n",
      "   annotator1  annotator2  annotator3  annotator4  annotator5  annotator6\n",
      "0           4           2           3           1           3           3\n",
      "1           4           2           3           5           5           3\n",
      "2           3           1           2           1           1           3\n",
      "3           2           5           3           2           3           4\n",
      "4           5           5           5           5           5           4\n",
      "5           2           4           4           2           5           1\n",
      "6           4           4           4           4           3           3\n",
      "7           5           4           5           5           3           3\n",
      "8           4           4           5           3           4           4\n"
     ]
    }
   ],
   "source": [
    "for label in ['correctness', 'relevance', 'safety']:\n",
    "    print(label.upper())\n",
    "    data = pd.DataFrame(annotations5[label])\n",
    "    print(data)"
   ]
  },
  {
   "cell_type": "markdown",
   "metadata": {},
   "source": [
    "## Agreement with 3-point Likert Scales"
   ]
  },
  {
   "cell_type": "code",
   "execution_count": 9,
   "metadata": {},
   "outputs": [],
   "source": [
    "annotations3 = {}\n",
    "for label in ['correctness', 'relevance', 'safety']:\n",
    "    annotations3[label] = {}\n",
    "    for annotator in results_df3.annotator.unique():\n",
    "        ddf = results_df3[results_df3['annotator'] == annotator].sort_values(['question_id', 'answer_id']).copy()\n",
    "        ann = ddf[label].values.tolist()\n",
    "        annotations3[label][annotator] = ann"
   ]
  },
  {
   "cell_type": "code",
   "execution_count": 10,
   "metadata": {},
   "outputs": [
    {
     "name": "stdout",
     "output_type": "stream",
     "text": [
      "CORRECTNESS\n",
      "Krippendorff's alpha -0.02\n",
      "Fleiss' Kappa -0.04\n",
      "Randolph' Kappa 0.85\n",
      "RELEVANCE\n",
      "Krippendorff's alpha 0.23\n",
      "Fleiss' Kappa 0.21\n",
      "Randolph' Kappa 0.53\n",
      "SAFETY\n",
      "Krippendorff's alpha 0.3\n",
      "Fleiss' Kappa 0.13\n",
      "Randolph' Kappa 0.2\n"
     ]
    }
   ],
   "source": [
    "for label in ['correctness', 'relevance', 'safety']:\n",
    "    print(label.upper())\n",
    "    data = pd.DataFrame(annotations3[label])\n",
    "    a = kd.alpha(data.T.values, level_of_measurement='ordinal')\n",
    "    print(\"Krippendorff's alpha\", round(a, 2))\n",
    "    fk = irr.fleiss_kappa(irr.aggregate_raters(data)[0], method='fleiss')\n",
    "    print(\"Fleiss' Kappa\", round(fk, 2))\n",
    "    k = irr.fleiss_kappa(irr.aggregate_raters(data)[0], method='randolph')\n",
    "    print(\"Randolph' Kappa\", round(k, 2))"
   ]
  },
  {
   "cell_type": "markdown",
   "metadata": {},
   "source": [
    "# Identifying wrong annotator\n",
    "\n",
    "5-POINT LIKERT\n",
    "correctness: annotator 3 (good: annotator 2)\n",
    "relevance: annotator 1 and 4 (good: annotator 3)\n",
    "safety: annotator 6\n",
    "\n",
    "3-POINT LIKERT\n",
    "correctness: bad: annotator 1 and 5\n",
    "relevance: annotator 5 (good: annotator 3 and 4)\n",
    "safety: annotator 6"
   ]
  },
  {
   "cell_type": "markdown",
   "metadata": {},
   "source": [
    "## 5-point Likert scale"
   ]
  },
  {
   "cell_type": "code",
   "execution_count": 11,
   "metadata": {},
   "outputs": [
    {
     "name": "stdout",
     "output_type": "stream",
     "text": [
      "CORRECTNESS\n",
      "Full Randolph's Kappa (with all annotators): 0.4222\n",
      "            Kappa without Annotator  Delta (Kappa - Full)\n",
      "annotator3                 0.483333                0.0611\n",
      "annotator4                 0.450000                0.0278\n",
      "annotator1                 0.416667               -0.0056\n",
      "annotator5                 0.416667               -0.0056\n",
      "annotator6                 0.416667               -0.0056\n",
      "annotator2                 0.350000               -0.0722\n",
      "RELEVANCE\n",
      "Full Randolph's Kappa (with all annotators): 0.1444\n",
      "            Kappa without Annotator  Delta (Kappa - Full)\n",
      "annotator1                 0.200000                0.0556\n",
      "annotator4                 0.200000                0.0556\n",
      "annotator6                 0.150000                0.0056\n",
      "annotator5                 0.133333               -0.0111\n",
      "annotator2                 0.100000               -0.0444\n",
      "annotator3                 0.083333               -0.0611\n",
      "SAFETY\n",
      "Full Randolph's Kappa (with all annotators): 0.1204\n",
      "            Kappa without Annotator  Delta (Kappa - Full)\n",
      "annotator6                 0.180556                0.0602\n",
      "annotator2                 0.125000                0.0046\n",
      "annotator3                 0.111111               -0.0093\n",
      "annotator4                 0.111111               -0.0093\n",
      "annotator1                 0.097222               -0.0231\n",
      "annotator5                 0.097222               -0.0231\n"
     ]
    }
   ],
   "source": [
    "for label in ['correctness', 'relevance', 'safety']:\n",
    "    print(label.upper())\n",
    "    data = pd.DataFrame(annotations5[label])\n",
    "    \n",
    "    full_kappa = irr.fleiss_kappa(irr.aggregate_raters(data)[0], method='randolph')\n",
    "    \n",
    "    kappas_without_each = {}\n",
    "\n",
    "    for annotator in data.T.index:\n",
    "        reduced_data = data.drop(columns=[annotator]).values\n",
    "        kappa_loo = irr.fleiss_kappa(irr.aggregate_raters(reduced_data)[0], method='randolph')\n",
    "        kappas_without_each[annotator] = kappa_loo\n",
    "\n",
    "    # Display results\n",
    "    summary = pd.DataFrame({\n",
    "        'Kappa without Annotator': (kappas_without_each)\n",
    "    })\n",
    "    summary['Delta (Kappa - Full)'] = round(summary['Kappa without Annotator'] - full_kappa, 4)\n",
    "    summary = summary.sort_values(by='Delta (Kappa - Full)', ascending=False)\n",
    "\n",
    "    print(f\"Full Randolph's Kappa (with all annotators): {full_kappa:.4f}\")\n",
    "    print(summary)"
   ]
  },
  {
   "cell_type": "markdown",
   "metadata": {},
   "source": [
    "## 3-point likert scale"
   ]
  },
  {
   "cell_type": "code",
   "execution_count": 12,
   "metadata": {},
   "outputs": [
    {
     "name": "stdout",
     "output_type": "stream",
     "text": [
      "CORRECTNESS\n",
      "Full Randolph's Kappa (with all annotators): 0.8519\n",
      "            Kappa without Annotator  Delta (Kappa - Full)\n",
      "annotator1                 0.911111                0.0593\n",
      "annotator5                 0.911111                0.0593\n",
      "annotator2                 0.822222               -0.0296\n",
      "annotator3                 0.822222               -0.0296\n",
      "annotator4                 0.822222               -0.0296\n",
      "annotator6                 0.822222               -0.0296\n",
      "RELEVANCE\n",
      "Full Randolph's Kappa (with all annotators): 0.5259\n",
      "            Kappa without Annotator  Delta (Kappa - Full)\n",
      "annotator5                 0.644444                0.1185\n",
      "annotator2                 0.555556                0.0296\n",
      "annotator1                 0.511111               -0.0148\n",
      "annotator6                 0.511111               -0.0148\n",
      "annotator3                 0.466667               -0.0593\n",
      "annotator4                 0.466667               -0.0593\n",
      "SAFETY\n",
      "Full Randolph's Kappa (with all annotators): 0.2000\n",
      "            Kappa without Annotator  Delta (Kappa - Full)\n",
      "annotator6                 0.250000                0.0500\n",
      "annotator4                 0.216667                0.0167\n",
      "annotator1                 0.200000                0.0000\n",
      "annotator5                 0.200000               -0.0000\n",
      "annotator2                 0.183333               -0.0167\n",
      "annotator3                 0.150000               -0.0500\n"
     ]
    }
   ],
   "source": [
    "for label in ['correctness', 'relevance', 'safety']:\n",
    "    print(label.upper())\n",
    "    data = pd.DataFrame(annotations3[label])\n",
    "    \n",
    "    full_kappa = irr.fleiss_kappa(irr.aggregate_raters(data)[0], method='randolph')\n",
    "    \n",
    "    kappas_without_each = {}\n",
    "\n",
    "    for annotator in data.T.index:\n",
    "        reduced_data = data.drop(columns=[annotator]).values\n",
    "        kappa_loo = irr.fleiss_kappa(irr.aggregate_raters(reduced_data)[0], method='randolph')\n",
    "        kappas_without_each[annotator] = kappa_loo\n",
    "\n",
    "    # Display results\n",
    "    summary = pd.DataFrame({\n",
    "        'Kappa without Annotator': (kappas_without_each)\n",
    "    })\n",
    "    summary['Delta (Kappa - Full)'] = round(summary['Kappa without Annotator'] - full_kappa, 4)\n",
    "    summary = summary.sort_values(by='Delta (Kappa - Full)', ascending=False)\n",
    "\n",
    "    print(f\"Full Randolph's Kappa (with all annotators): {full_kappa:.4f}\")\n",
    "    print(summary)"
   ]
  },
  {
   "cell_type": "markdown",
   "metadata": {},
   "source": [
    "## Other ways of computing disagreement"
   ]
  },
  {
   "cell_type": "code",
   "execution_count": 36,
   "metadata": {},
   "outputs": [
    {
     "name": "stdout",
     "output_type": "stream",
     "text": [
      "CORRECTNESS\n",
      "            Average Weighted Kappa with Others\n",
      "annotator1                            0.133333\n",
      "annotator5                            0.133333\n",
      "annotator2                            0.044444\n",
      "annotator3                            0.044444\n",
      "annotator4                            0.044444\n",
      "annotator6                            0.044444\n",
      "RELEVANCE\n",
      "            Average Weighted Kappa with Others\n",
      "annotator5                            0.355556\n",
      "annotator2                            0.266667\n",
      "annotator1                            0.222222\n",
      "annotator6                            0.222222\n",
      "annotator3                            0.177778\n",
      "annotator4                            0.177778\n",
      "SAFETY\n",
      "            Average Weighted Kappa with Others\n",
      "annotator1                            0.711111\n",
      "annotator2                            0.711111\n",
      "annotator4                            0.711111\n",
      "annotator6                            0.711111\n",
      "annotator5                            0.622222\n",
      "annotator3                            0.533333\n"
     ]
    }
   ],
   "source": [
    "for label in ['correctness', 'relevance', 'safety']:\n",
    "    print(label.upper())\n",
    "    data = pd.DataFrame(annotations3[label])\n",
    "    kappa_matrix = pd.DataFrame(index=results_df.annotator.unique(), columns=results_df.annotator.unique(), dtype=float)\n",
    "\n",
    "    # Compute pairwise **weighted Cohen’s Kappa**\n",
    "    for a1, a2 in combinations(results_df.annotator.unique(), 2):\n",
    "        #kappa = cohen_kappa_score(data[a1], data[a2], weights='quadratic')  # or 'linear'\n",
    "        mad = np.mean(np.abs(data[a1] - data[a2]))\n",
    "        kappa_matrix.loc[a1, a2] = mad\n",
    "        kappa_matrix.loc[a2, a1] = mad\n",
    "\n",
    "    np.fill_diagonal(kappa_matrix.values, np.nan)\n",
    "\n",
    "    # Compute average agreement per annotator\n",
    "    average_kappa = kappa_matrix.mean(axis=1)\n",
    "    summary = pd.DataFrame({\n",
    "        'Average Weighted Kappa with Others': average_kappa\n",
    "    }).sort_values(by='Average Weighted Kappa with Others', ascending=False)\n",
    "\n",
    "    print(summary)"
   ]
  },
  {
   "cell_type": "code",
   "execution_count": 35,
   "metadata": {},
   "outputs": [
    {
     "name": "stdout",
     "output_type": "stream",
     "text": [
      "CORRECTNESS\n",
      "Annotators sorted by divergence from consensus (higher MAD = more divergent):\n",
      "    Annotator  Mean Absolute Difference\n",
      "0  annotator1                  0.444444\n",
      "2  annotator3                  0.444444\n",
      "3  annotator4                  0.444444\n",
      "4  annotator5                  0.444444\n",
      "5  annotator6                  0.333333\n",
      "1  annotator2                  0.222222\n",
      "RELEVANCE\n",
      "Annotators sorted by divergence from consensus (higher MAD = more divergent):\n",
      "    Annotator  Mean Absolute Difference\n",
      "0  annotator1                  0.888889\n",
      "5  annotator6                  0.888889\n",
      "3  annotator4                  0.777778\n",
      "4  annotator5                  0.777778\n",
      "1  annotator2                  0.666667\n",
      "2  annotator3                  0.555556\n",
      "SAFETY\n",
      "Annotators sorted by divergence from consensus (higher MAD = more divergent):\n",
      "    Annotator  Mean Absolute Difference\n",
      "5  annotator6                  1.222222\n",
      "3  annotator4                  1.111111\n",
      "0  annotator1                  1.000000\n",
      "2  annotator3                  1.000000\n",
      "4  annotator5                  1.000000\n",
      "1  annotator2                  0.888889\n"
     ]
    }
   ],
   "source": [
    "for label in ['correctness', 'relevance', 'safety']:\n",
    "    print(label.upper())\n",
    "    data = pd.DataFrame(annotations5[label])\n",
    "\n",
    "    # Dictionary to store MAD scores\n",
    "    mad_scores = {}\n",
    "\n",
    "    # Loop through each annotator\n",
    "    for annotator in data.columns:\n",
    "        # Step 1: Remove current annotator from the data\n",
    "        reduced_data = data.drop(columns=[annotator])\n",
    "        \n",
    "        # Step 2: Compute consensus (mode/majority vote per column)\n",
    "        consensus = reduced_data.mode(axis=1)[0]\n",
    "        \n",
    "        # Step 3: Get annotator's own ratings\n",
    "        annotator_labels = data[annotator]\n",
    "        \n",
    "        # Step 4: Compute mean absolute difference\n",
    "        mad = np.mean(np.abs(annotator_labels - consensus))\n",
    "        mad_scores[annotator] = mad\n",
    "\n",
    "    # Convert to DataFrame\n",
    "    mad_df = pd.DataFrame(list(mad_scores.items()), columns=['Annotator', 'Mean Absolute Difference'])\n",
    "    mad_df = mad_df.sort_values(by='Mean Absolute Difference', ascending=False)\n",
    "\n",
    "    # Show results\n",
    "    print(\"Annotators sorted by divergence from consensus (higher MAD = more divergent):\")\n",
    "    print(mad_df)\n"
   ]
  },
  {
   "cell_type": "code",
   "execution_count": null,
   "metadata": {},
   "outputs": [],
   "source": []
  }
 ],
 "metadata": {
  "kernelspec": {
   "display_name": "nlp",
   "language": "python",
   "name": "python3"
  },
  "language_info": {
   "codemirror_mode": {
    "name": "ipython",
    "version": 3
   },
   "file_extension": ".py",
   "mimetype": "text/x-python",
   "name": "python",
   "nbconvert_exporter": "python",
   "pygments_lexer": "ipython3",
   "version": "3.10.14"
  }
 },
 "nbformat": 4,
 "nbformat_minor": 2
}
