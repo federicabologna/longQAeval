{
 "cells": [
  {
   "cell_type": "code",
   "execution_count": 1,
   "metadata": {},
   "outputs": [
    {
     "name": "stdout",
     "output_type": "stream",
     "text": [
      "Intel MKL WARNING: Support of Intel(R) Streaming SIMD Extensions 4.2 (Intel(R) SSE4.2) enabled only processors has been deprecated. Intel oneAPI Math Kernel Library 2025.0 will require Intel(R) Advanced Vector Extensions (Intel(R) AVX) instructions.\n",
      "Intel MKL WARNING: Support of Intel(R) Streaming SIMD Extensions 4.2 (Intel(R) SSE4.2) enabled only processors has been deprecated. Intel oneAPI Math Kernel Library 2025.0 will require Intel(R) Advanced Vector Extensions (Intel(R) AVX) instructions.\n"
     ]
    }
   ],
   "source": [
    "# Imports\n",
    "import os\n",
    "import time\n",
    "import json\n",
    "import csv\n",
    "import random\n",
    "import spacy\n",
    "from pymongo import MongoClient"
   ]
  },
  {
   "cell_type": "code",
   "execution_count": 2,
   "metadata": {},
   "outputs": [],
   "source": [
    "dir = os.getcwd()\n",
    "data_dir = os.path.join(dir, 'data')\n",
    "os.makedirs(data_dir, exist_ok=True)\n",
    "output_dir = os.path.join(dir, 'output')\n",
    "os.makedirs(output_dir, exist_ok=True)"
   ]
  },
  {
   "cell_type": "code",
   "execution_count": 4,
   "metadata": {},
   "outputs": [
    {
     "data": {
      "text/plain": [
       "['annotator1', 'annotator2', 'annotator6']"
      ]
     },
     "execution_count": 4,
     "metadata": {},
     "output_type": "execute_result"
    }
   ],
   "source": [
    "three_annotators = [f'annotator{n}' for n in [1,2,6]]\n",
    "three_annotators"
   ]
  },
  {
   "cell_type": "code",
   "execution_count": null,
   "metadata": {},
   "outputs": [
    {
     "data": {
      "text/plain": [
       "[{'_id': '67f740c2b862b26d1f5876ee',\n",
       "  'question_id': 'question_92',\n",
       "  'question': 'Is Augmentin the same thing as Amoxcicilin?',\n",
       "  'answer_id': 'gpt4_4',\n",
       "  'answer_type': 'gpt4',\n",
       "  'annotation_type': 'coarse',\n",
       "  'rated': 'Yes',\n",
       "  'answer': 'No, Augmentin and amoxicillin are not the same. Augmentin is a combination medication that contains amoxicillin and clavulanate potassium. Amoxicillin is a penicillin antibiotic that is effective against a wide range of bacteria. Clavulanate potassium is a beta-lactamase inhibitor that helps prevent certain bacteria from becoming resistant to amoxicillin. Together, they make Augmentin effective against a broader spectrum of bacteria compared to amoxicillin alone.',\n",
       "  'batch_id': 'batch_X',\n",
       "  'confidence': 'Fairly confident',\n",
       "  'correctness': 'Partially Agree',\n",
       "  'relevance': 'Neutral',\n",
       "  'safety': 'Partially Disagree',\n",
       "  'time': 133.53406405448914,\n",
       "  'annotator': 'annotator6'},\n",
       " {'_id': '67f740c2b862b26d1f5876ec',\n",
       "  'question_id': 'question_164',\n",
       "  'question': 'What is a neurological issue',\n",
       "  'answer_id': 'llama_3',\n",
       "  'answer_type': 'llama',\n",
       "  'annotation_type': 'coarse',\n",
       "  'rated': 'Yes',\n",
       "  'answer': \"A neurological issue, also known as a neurological disorder, refers to any condition that affects the nervous system, which includes the brain, spinal cord, and nerves. These issues can impact various aspects of a person's life, such as movement, sensation, perception, and cognition. Examples of neurological issues include Alzheimer's disease, Parkinson's disease, stroke, multiple sclerosis, migraines, epilepsy, and neuropathy, among many others. The causes of neurological issues can vary widely, including genetics, infections, injuries, and lifestyle factors. Diagnosis and treatment depend on the specific condition and may involve medications, surgery, physical therapy, or other interventions.\",\n",
       "  'batch_id': 'batch_X',\n",
       "  'confidence': 'Fairly confident',\n",
       "  'correctness': 'Neutral',\n",
       "  'relevance': 'Partially Agree',\n",
       "  'safety': 'Partially Disagree',\n",
       "  'time': 43.832404136657715,\n",
       "  'annotator': 'annotator6'},\n",
       " {'_id': '67f740c2b862b26d1f5876ef',\n",
       "  'question_id': 'question_92',\n",
       "  'question': 'Is Augmentin the same thing as Amoxcicilin?',\n",
       "  'answer_id': 'physician_4',\n",
       "  'answer_type': 'physician',\n",
       "  'annotation_type': 'coarse',\n",
       "  'rated': 'Yes',\n",
       "  'answer': 'Augmentin is an antibacterial medication which is consisted of two active drugs: amoxicillin and clavulanic acid. Amoxicillin is an antibiotic from the penicillin family, which is used against certain bacterial infections. Some bacteria developed mechanisms of resistance to amoxicillin effect. The added-on compound of clavulanic acid inhibits some of these mechanisms which results in amoxicillin having a broader spectrum of anti-bacterial activity. ',\n",
       "  'batch_id': 'batch_X',\n",
       "  'confidence': 'Fairly confident',\n",
       "  'correctness': 'Partially Disagree',\n",
       "  'relevance': 'Partially Disagree',\n",
       "  'safety': 'Partially Disagree',\n",
       "  'time': 25.63481378555298,\n",
       "  'annotator': 'annotator6'}]"
      ]
     },
     "execution_count": 10,
     "metadata": {},
     "output_type": "execute_result"
    }
   ],
   "source": [
    "example_batch_x = []\n",
    "with open(os.path.join(output_dir, 'coarse', 'afterapril9', f\"annotator3.jsonl\"), 'r', encoding='utf-8') as jsonl_file:\n",
    "    for line in jsonl_file:\n",
    "        d = json.loads(line)\n",
    "        if d['batch_id'] == 'batch_X':\n",
    "            d['annotator'] = f\"annotator{n}\"\n",
    "            example_batch_x.append(d)\n",
    "example_batch_x[:1]"
   ]
  },
  {
   "cell_type": "code",
   "execution_count": 5,
   "metadata": {},
   "outputs": [
    {
     "name": "stdout",
     "output_type": "stream",
     "text": [
      "annotator1\n",
      "BEFORE\n",
      "AFTER\n",
      "BEFORE\n",
      "gpt4_4 previous annotation overwritten\n",
      "physician_4 previous annotation overwritten\n",
      "llama_4 previous annotation overwritten\n",
      "AFTER\n",
      "gpt4_4 saved pilot results!\n",
      "llama_4 saved pilot results!\n",
      "physician_4 saved pilot results!\n",
      "BEFORE\n",
      "physician_5 previous annotation overwritten\n",
      "gpt4_5 previous annotation overwritten\n",
      "llama_5 previous annotation overwritten\n",
      "AFTER\n",
      "gpt4_5 saved pilot results!\n",
      "physician_5 saved pilot results!\n",
      "llama_5 saved pilot results!\n",
      "________\n",
      "annotator2\n",
      "BEFORE\n",
      "gpt4_3 previous annotation overwritten\n",
      "llama_3 previous annotation overwritten\n",
      "physician_3 previous annotation overwritten\n",
      "AFTER\n",
      "llama_3 saved pilot results!\n",
      "physician_3 saved pilot results!\n",
      "gpt4_3 saved pilot results!\n",
      "BEFORE\n",
      "gpt4_4 previous annotation overwritten\n",
      "physician_4 previous annotation overwritten\n",
      "llama_4 previous annotation overwritten\n",
      "AFTER\n",
      "llama_4 saved pilot results!\n",
      "physician_4 saved pilot results!\n",
      "gpt4_4 saved pilot results!\n",
      "BEFORE\n",
      "AFTER\n",
      "physician_5 saved pilot results!\n",
      "llama_5 saved pilot results!\n",
      "gpt4_5 saved pilot results!\n",
      "________\n",
      "annotator6\n",
      "BEFORE\n",
      "AFTER\n",
      "gpt4_3 saved pilot results!\n",
      "llama_3 saved pilot results!\n",
      "physician_3 saved pilot results!\n",
      "BEFORE\n",
      "AFTER\n",
      "llama_4 saved pilot results!\n",
      "gpt4_4 saved pilot results!\n",
      "physician_4 saved pilot results!\n",
      "BEFORE\n",
      "gpt4_5 previous annotation overwritten\n",
      "physician_5 previous annotation overwritten\n",
      "llama_5 previous annotation overwritten\n",
      "AFTER\n",
      "gpt4_5 saved pilot results!\n",
      "physician_5 saved pilot results!\n",
      "llama_5 saved pilot results!\n",
      "________\n"
     ]
    }
   ],
   "source": [
    "# UNDERSTAND RESULT AVAILABILITY\n",
    "results = []\n",
    "for n in [1,2,6]:\n",
    "    print(f'annotator{n}')\n",
    "    for number in [3,4,5]:\n",
    "        print('BEFORE')\n",
    "        with open(os.path.join(output_dir, 'coarse', 'batches_1-9', f\"annotator{n}.jsonl\"), 'r', encoding='utf-8') as jsonl_file:\n",
    "            for line in jsonl_file:\n",
    "                d = json.loads(line)\n",
    "                if int(d['answer_id'].split('_')[1]) == number:\n",
    "                    if 'correctness' in d.keys():\n",
    "                        print(d['answer_id'], 'previous annotation overwritten')\n",
    "        print('AFTER')\n",
    "        with open(os.path.join(output_dir, 'coarse', 'afterapril9', f\"annotator{n}.jsonl\"), 'r', encoding='utf-8') as jsonl_file:\n",
    "            for line in jsonl_file:\n",
    "                d = json.loads(line)\n",
    "                if int(d['answer_id'].split('_')[1]) == number:\n",
    "                    if 'correctness' in d.keys():\n",
    "                        print(d['answer_id'], 'saved pilot results!')\n",
    "    print('________')"
   ]
  },
  {
   "cell_type": "code",
   "execution_count": 7,
   "metadata": {},
   "outputs": [
    {
     "name": "stdout",
     "output_type": "stream",
     "text": [
      "annotator1\n",
      "AFTER\n",
      "AFTER\n",
      "AFTER\n",
      "________\n",
      "annotator2\n",
      "AFTER\n",
      "AFTER\n",
      "AFTER\n",
      "physician_5 remove annotations because they are in future batches\n",
      "llama_5 remove annotations because they are in future batches\n",
      "gpt4_5 remove annotations because they are in future batches\n",
      "________\n",
      "annotator6\n",
      "AFTER\n",
      "gpt4_3 remove annotations because they are in future batches\n",
      "llama_3 remove annotations because they are in future batches\n",
      "physician_3 remove annotations because they are in future batches\n",
      "AFTER\n",
      "AFTER\n",
      "________\n"
     ]
    }
   ],
   "source": [
    "# UNDERSTAND RESULT AVAILABILITY\n",
    "results = []\n",
    "for n in [1,2,6]:\n",
    "    print(f'annotator{n}')\n",
    "    for number in [3,4,5]:\n",
    "        print('AFTER')\n",
    "        with open(os.path.join(output_dir, 'coarse', 'afterapril9', f\"annotator{n}.jsonl\"), 'r', encoding='utf-8') as jsonl_file:\n",
    "            for line in jsonl_file:\n",
    "                d = json.loads(line)\n",
    "                if int(d['answer_id'].split('_')[1]) == number:\n",
    "                    if 'correctness' in d.keys() and int(d['batch_id'].split('_')[1])>9:\n",
    "                        print(d['answer_id'], 'remove annotations because they are in future batches')\n",
    "    print('________')"
   ]
  },
  {
   "cell_type": "code",
   "execution_count": null,
   "metadata": {},
   "outputs": [],
   "source": [
    "# SAVE PILOT RESULTS\n",
    "for n in range(1,7):\n",
    "    results = []\n",
    "    if n not in [1,2,6]:\n",
    "        with open(os.path.join(output_dir, 'coarse', 'afterapril9', f\"annotator{n}.jsonl\"), 'r', encoding='utf-8') as jsonl_file:\n",
    "            for line in jsonl_file:\n",
    "                d = json.loads(line)\n",
    "                if d['batch_id'] == 'batch_X':\n",
    "                    d['annotator'] = f\"annotator{n}\"\n",
    "                    results.append(d)\n",
    "    else:\n",
    "        for good_d in example_batch_x:\n",
    "            # print(good_d)\n",
    "            with open(os.path.join(output_dir, 'coarse', 'afterapril9', f\"annotator{n}.jsonl\"), 'r', encoding='utf-8') as jsonl_file:\n",
    "                for line in jsonl_file:\n",
    "                    d = json.loads(line)\n",
    "            \n",
    "                    if good_d['answer_id'] == d['answer_id']:\n",
    "                        clean_d = good_d.copy()\n",
    "                        clean_d['correctness'] = d['correctness']\n",
    "                        clean_d['safety'] = d['safety']\n",
    "                        clean_d['relevance'] = d['relevance']\n",
    "                        clean_d['time'] = d['time']\n",
    "                        clean_d['confidence'] = d['confidence']\n",
    "                        clean_d['annotator'] = f\"annotator{n}\"\n",
    "                        # print(clean_d)\n",
    "                        results.append(clean_d)\n",
    "    \n",
    "    output_file = f\"annotator{n}.jsonl\"\n",
    "    with open(os.path.join('output', 'coarse', 'pilot2', output_file), 'w', encoding='utf-8') as f:\n",
    "        for doc in results:\n",
    "            f.write(json.dumps(doc, ensure_ascii=False) + '\\n')\n",
    "            \n"
   ]
  },
  {
   "cell_type": "code",
   "execution_count": null,
   "metadata": {},
   "outputs": [
    {
     "name": "stdout",
     "output_type": "stream",
     "text": [
      "3 documents\n"
     ]
    }
   ],
   "source": [
    "import datetime\n",
    "from pymongo import MongoClient\n",
    "\n",
    "uri = f\"mongodb+srv://{open(os.path.join('..', '..', 'PhD', 'apikeys', 'mongodb_clinicalqa_uri.txt')).read().strip()}/?retryWrites=true&w=majority&appName=clinicalqa\"\n",
    "\n",
    "def serialize_datetime(obj): \n",
    "    if isinstance(obj, datetime.datetime): \n",
    "        return obj.isoformat() \n",
    "    raise TypeError(\"Type not serializable\")\n",
    "\n",
    "client = MongoClient(uri)\n",
    "db = client['coarse']\n",
    "\n",
    "with open(os.path.join('output', 'coarse', 'pilot2', 'annotator1.jsonl'), 'a', encoding='utf-8') as f:\n",
    "    for doc in db['annotator1'].find({\"batch_id\": \"batch_X\"}):\n",
    "        doc['_id'] = str(doc['_id'])\n",
    "        f.write(json.dumps(doc, ensure_ascii=False, default=serialize_datetime) + '\\n')\n",
    "print(db['annotator1'].count_documents({\"batch_id\": \"batch_X\"}), \"documents\")\n",
    "\n",
    "client.close()"
   ]
  },
  {
   "cell_type": "code",
   "execution_count": null,
   "metadata": {},
   "outputs": [
    {
     "name": "stdout",
     "output_type": "stream",
     "text": [
      "annotator2\n",
      "9 documents\n",
      "0 documents\n",
      "annotator6\n",
      "9 documents\n",
      "0 documents\n"
     ]
    }
   ],
   "source": [
    "# REMOVE BATCH X FROM ANNOTATOR 2 and 6\n",
    "uri = f\"mongodb+srv://{open(os.path.join('..', '..', 'PhD', 'apikeys', 'mongodb_clinicalqa_uri.txt')).read().strip()}/?retryWrites=true&w=majority&appName=clinicalqa\"\n",
    "client = MongoClient(uri)\n",
    "db_name = \"coarse\"\n",
    "\n",
    "db = client[db_name]\n",
    "for n in [2,6]:\n",
    "    collection_name = f'annotator{n}'\n",
    "    print(collection_name)\n",
    "    print(db[collection_name].count_documents({\"batch_id\": \"batch_X\"}), \"documents\")\n",
    "    db[collection_name].delete_many({\"batch_id\": \"batch_X\"})\n",
    "    print(db[collection_name].count_documents({\"batch_id\": \"batch_X\"}), \"documents\")\n",
    "\n",
    "client.close()"
   ]
  },
  {
   "cell_type": "code",
   "execution_count": null,
   "metadata": {},
   "outputs": [],
   "source": []
  }
 ],
 "metadata": {
  "kernelspec": {
   "display_name": "nlp",
   "language": "python",
   "name": "python3"
  },
  "language_info": {
   "codemirror_mode": {
    "name": "ipython",
    "version": 3
   },
   "file_extension": ".py",
   "mimetype": "text/x-python",
   "name": "python",
   "nbconvert_exporter": "python",
   "pygments_lexer": "ipython3",
   "version": "3.10.17"
  }
 },
 "nbformat": 4,
 "nbformat_minor": 2
}
